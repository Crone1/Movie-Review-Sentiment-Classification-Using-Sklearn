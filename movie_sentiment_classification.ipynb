{
 "cells": [
  {
   "cell_type": "markdown",
   "id": "stone-leader",
   "metadata": {},
   "source": []
  },
  {
   "cell_type": "markdown",
   "id": "meaning-grill",
   "metadata": {},
   "source": [
    "# Sentiment Polarity Prediction with Naive Bayes\n",
    "\n",
    "This notebook contains a basic implementation of document-level sentiment analysis\n",
    "for movie reviews with multinomial Naive Bayes and bag-of-words features\n",
    "and of cross-validation.\n",
    "* No special treatment of rare or unknown words. Unknown words in the test data are skipped.\n",
    "\n",
    "We use the movie review polarity data set of Pang and Lee 2004 [A Sentimental Education: Sentiment Analysis Using Subjectivity Summarization Based on Minimum Cuts](https://www.aclweb.org/anthology/P04-1035/) in Version 2.0 available from http://www.cs.cornell.edu/People/pabo/movie-review-data (section \"Sentiment polarity datasets\"). This dataset contains 1000 positive and 1000 negative reviews, each tokenised, sentence-split (one sentence per line) and lowercased. Each review has been assigned to 1 of 10 cross-validation folds by the authors and this setup should be followed to compare with published results.\n"
   ]
  },
  {
   "cell_type": "markdown",
   "id": "authentic-helena",
   "metadata": {},
   "source": [
    "# -----------------------------------------------------------------------------------------------------------------"
   ]
  },
  {
   "cell_type": "markdown",
   "id": "imported-angel",
   "metadata": {},
   "source": [
    "# Setup"
   ]
  },
  {
   "cell_type": "markdown",
   "id": "wireless-indiana",
   "metadata": {},
   "source": [
    "### Import packages"
   ]
  },
  {
   "cell_type": "code",
   "execution_count": 1,
   "id": "animal-fossil",
   "metadata": {},
   "outputs": [],
   "source": [
    "# general packages\n",
    "import os\n",
    "import time\n",
    "import pandas as pd\n",
    "from tqdm.auto import tqdm"
   ]
  },
  {
   "cell_type": "code",
   "execution_count": 2,
   "id": "bibliographic-luther",
   "metadata": {},
   "outputs": [],
   "source": [
    "# models needed for modelling\n",
    "from sklearn.naive_bayes import MultinomialNB\n",
    "from sklearn.linear_model import LogisticRegression, SGDClassifier\n",
    "from sklearn.ensemble import RandomForestClassifier"
   ]
  },
  {
   "cell_type": "markdown",
   "id": "heated-elements",
   "metadata": {},
   "source": [
    "### Import the classes and functions from the '.py' file"
   ]
  },
  {
   "cell_type": "code",
   "execution_count": 3,
   "id": "bizarre-polymer",
   "metadata": {},
   "outputs": [],
   "source": [
    "%load_ext autoreload\n",
    "%autoreload 1\n",
    "%aimport Sentiment_classification_functions\n",
    "\n",
    "import Sentiment_classification_functions as scf"
   ]
  },
  {
   "cell_type": "markdown",
   "id": "quick-savage",
   "metadata": {},
   "source": [
    "### Define the location of my chromedriver"
   ]
  },
  {
   "cell_type": "code",
   "execution_count": 4,
   "id": "suspected-insertion",
   "metadata": {},
   "outputs": [],
   "source": [
    "chromedriver_location = 'C:\\\\Program Files (x86)\\\\Google\\\\Chrome\\\\Application\\\\chromedriver.exe'"
   ]
  },
  {
   "cell_type": "markdown",
   "id": "dying-thursday",
   "metadata": {},
   "source": [
    "# -----------------------------------------------------------------------------------------------------------------"
   ]
  },
  {
   "cell_type": "markdown",
   "id": "vertical-country",
   "metadata": {},
   "source": [
    "# Load in the data"
   ]
  },
  {
   "cell_type": "code",
   "execution_count": 6,
   "id": "overall-imaging",
   "metadata": {},
   "outputs": [],
   "source": [
    "data_dict = scf.load_data('data', chromedriver_location)"
   ]
  },
  {
   "cell_type": "markdown",
   "id": "lovely-milan",
   "metadata": {},
   "source": [
    "### Preview the documents in the data"
   ]
  },
  {
   "cell_type": "code",
   "execution_count": 9,
   "id": "insured-alfred",
   "metadata": {},
   "outputs": [
    {
     "name": "stdout",
     "output_type": "stream",
     "text": [
      "\n",
      "==== pos ====\n",
      "|    |   doc_num |   sentences | start_of_first_sentence                            |\n",
      "|---:|----------:|------------:|:---------------------------------------------------|\n",
      "|  0 |         0 |          25 | films|adapted|from|comic|books|have|had|plenty|of  |\n",
      "|  1 |         1 |          39 | every|now|and|then|a|movie|comes|along|from|a      |\n",
      "|  2 |         2 |          19 | you've|got|mail|works|alot|better|than|it|deserves |\n",
      "|  3 |         3 |          42 | \"|jaws|\"|is|a|rare|film|that|grabs|your|attention  |\n",
      "|  4 |         4 |          25 | moviemaking|is|a|lot|like|being|the|general        |\n",
      "|  5 |         5 |          34 | on|june|30|,|1960|,|a|self-taught|,|idealistic|,   |\n",
      "|  6 |         6 |          31 | apparently|,|director|tony|kaye|had|a|major|battle |\n",
      "|  7 |         7 |          32 | one|of|my|colleagues|was|surprised|when|i|told|her |\n",
      "|  8 |         8 |          14 | after|bloody|clashes|and|independence|won|,        |\n",
      "|  9 |         9 |          18 | the|american|action|film|has|been|slowly|drowning  |\n",
      "| 10 |        10 |          40 | after|watching|\"|rat|race|\"|last|week|,|i|noticed  |\n",
      "| 11 |        11 |          26 | i've|noticed|something|lately|that|i've|never      |\n",
      "| 12 |        12 |          15 | synopsis|:|bobby|garfield|(|yelchin|)|lives|in|a   |\n",
      "| 13 |        13 |          11 | synopsis|:|in|this|movie|,|steven|spielberg|,|one  |\n",
      "| 14 |        14 |          50 | the|police|negotiator|is|the|person|with|the       |\n",
      "| 15 |        15 |          21 | plot|:|a|young|man|who|loves|heavy|metal|music|and |\n",
      "| 16 |        16 |          16 | carry|on|matron|is|the|last|great|carry-on|film|in |\n",
      "| 17 |        17 |          44 | the|ultimate|match|up|between|good|and|evil|,|\"    |\n",
      "| 18 |        18 |          20 | having|not|seen|,|\"|who|framed|roger|rabbit|\"|in   |\n",
      "| 19 |        19 |          20 | there's|something|about|ben|stiller|that|makes|him |\n",
      "| 20 |        20 |          18 | by|phil|curtolo|mel|gibson|(|braveheart|)|gave|a   |\n",
      "| 21 |        21 |          30 | one|can|not|observe|a|star|trek|movie|and|expect   |\n",
      "| 22 |        22 |          22 | a|fully|loaded|entertainment|review|-|website      |\n",
      "| 23 |        23 |          36 | when|bulworth|ended|,|i|allowed|myself|a|sigh|of   |\n",
      "| 24 |        24 |          31 | call|911|for|the|cliche|police|if|you|must|,|but   |\n",
      "| 25 |        25 |          51 | hilarious|,|ultra-low|budget|comedy|from|film      |\n",
      "| 26 |        26 |          25 | for|those|of|us|who|weren't|yet|born|when|the      |\n",
      "| 27 |        27 |          40 | the|most|common|(|and|in|many|cases|the|only|)     |\n",
      "| 28 |        28 |          49 | \"|the|blair|witch|project|\"|was|perhaps|one|of|a   |\n",
      "| 29 |        29 |          41 | seen|may|31|,|1999|on|home|video|(|rented|)|.|one  |\n",
      "| 30 |        30 |          40 | linda|fiorentino|disappeared|off|the|radar|after|a |\n",
      "| 31 |        31 |          66 | you've|heard|all|the|hype|.|you've|seen|all|their  |\n",
      "| 32 |        32 |          38 | as|african|american|detective|vergil|tibbs         |\n",
      "| 33 |        33 |          52 | in|wonder|boys|michael|douglas|plays|an|aged       |\n",
      "| 34 |        34 |          32 | plot|:|derek|zoolander|is|a|male|model|.|he|is     |\n",
      "| 35 |        35 |          20 | unzipped|is|a|cinematic|portrait|of|isaac|mizrahi  |\n",
      "| 36 |        36 |          25 | dora|(|fernanda|montenegro|)|sits|behind|a         |\n",
      "| 37 |        37 |          37 | the|event|of|events|is|upon|us|.|people|have       |\n",
      "| 38 |        38 |          24 | sometimes|a|movie|comes|along|that|falls|somewhat  |\n",
      "| 39 |        39 |          18 | that|thing|you|do|!|(|r|)|tom|hanks's              |\n",
      "| 40 |        40 |          31 | \"|he's|back|,|and|it's|about|time|.|\"|was|the      |\n",
      "| 41 |        41 |          61 | dreamworks|pictures|presents|a|jinks/|cohen        |\n",
      "| 42 |        42 |          51 | will|hunting|(|matt|damon|)|is|a|natural|genius|.  |\n",
      "| 43 |        43 |          21 | if|there's|one|thing|in|common|about|all|of        |\n",
      "| 44 |        44 |          34 | what|do|you|get|when|you|slap|together|a|movie     |\n",
      "| 45 |        45 |          26 | `we|run|tings|.|tings|don't|run|we|.|'|-sound      |\n",
      "| 46 |        46 |          48 | at|first|glance|,|it|appears|that|the|home|alone   |\n",
      "| 47 |        47 |          41 | --|comedy|,|rated|pg|,|runs|about|1|:|40|--        |\n",
      "| 48 |        48 |          30 | when|_star|wars_|came|out|some|twenty|years|ago|,  |\n",
      "| 49 |        49 |          27 | warning|:|contains|what|the|matrix|is|.|rated|r    |\n",
      "| 50 |        50 |          28 | national|lampoon's|animal|house|,|made|in|1978|and |\n",
      "| 51 |        51 |          18 | every|year|,|hollywood|crowns|a|new|\"|it|boy|\"|--a |\n",
      "| 52 |        52 |          15 | synopsis|:|leonard|shelby|(|pearce|)|is|a|former   |\n",
      "| 53 |        53 |          43 | earth|is|a|harsh|,|unconsoling|drama|about|the     |\n",
      "| 54 |        54 |          25 | up|until|about|a|year|ago|,|john|travolta's|career |\n",
      "| 55 |        55 |          36 | i|was|fortunate|enough|to|attend|an|advance        |\n",
      "| 56 |        56 |          23 | the|disney|studios|has|its|formula|for|annual|,    |\n",
      "| 57 |        57 |          19 | i|had|been|expecting|more|of|this|movie|than|the   |\n",
      "| 58 |        58 |          10 | disney's|35th|animated|feature--|a|retooling|of    |\n",
      "| 59 |        59 |          41 | the|computer-animated|comedy|\"|shrek|\"|is|designed |\n",
      "| 60 |        60 |          43 | after|watching|the|first|ten|minutes|of|this       |\n",
      "| 61 |        61 |          30 | there's|an|old|saying|that|states|something|about  |\n",
      "| 62 |        62 |          40 | why|do|so|many|children's|films|treat|their|target |\n",
      "| 63 |        63 |          14 | susan|granger's|review|of|\"|the|closet|\"|(|miramax |\n",
      "| 64 |        64 |          42 | roman|emperor|marcus|aurelius|(|richard|harris|)   |\n",
      "| 65 |        65 |          52 | what|a|great|film|.|what|a|stunning|,|touching|,   |\n",
      "| 66 |        66 |          25 | ingredients|:|starving|artist|lusting|after|a      |\n",
      "| 67 |        67 |          23 | you've|seen|this|moment|before|,|recently|:|a      |\n",
      "| 68 |        68 |          37 | hollywood|has|really|done|the|whole|dracula|thing  |\n",
      "| 69 |        69 |          30 | stendhal's|syndrome|:|a|condition|where|,|in|the   |\n",
      "| 70 |        70 |          25 | close|your|eyes|for|a|moment|,|if|you|will|,|and   |\n",
      "| 71 |        71 |          39 | zero|effect|gets|its|title|from|the|main|character |\n",
      "| 72 |        72 |          20 | the|long|kiss|goodnight|(|r|)|meryl|streep|tried   |\n",
      "| 73 |        73 |          42 | screen|story|by|kevin|yagher|and|andrew|kevin      |\n",
      "| 74 |        74 |          59 | mpaa|:|not|rated|(|though|i|feel|it|would|likely   |\n",
      "| 75 |        75 |          15 | well|,|i|know|that|stallone|is|50|years|old|now|,  |\n",
      "| 76 |        76 |          52 | logical|time|travel|movies|are|a                   |\n",
      "| 77 |        77 |          33 | blade|is|the|movie|that|shows|that|wesley|snipes   |\n",
      "| 78 |        78 |          32 | the|truman|show|(|paramount|pictures|)|running     |\n",
      "| 79 |        79 |          15 | no|film|in|recent|has|left|me|with|such|conflicted |\n",
      "| 80 |        80 |          24 | just|how|inseparable|is|the|team|of|sgt|.|martin   |\n",
      "| 81 |        81 |          27 | since|1990|,|the|dramatic|picture|has|undergone|a  |\n",
      "| 82 |        82 |          20 | a|big|surprise|to|me|.|the|good|trailer|had|hinted |\n",
      "| 83 |        83 |          39 | after|having|heard|so|many|critics|describe|\"      |\n",
      "| 84 |        84 |          35 | wild|things|is|a|suspenseful|thriller|starring     |\n",
      "| 85 |        85 |          53 | *|*|*|*|*|*|minor|plot|spoilers|in|review|*|*|*|*  |\n",
      "| 86 |        86 |          55 | are|you|tired|of|all|the|hot|new|releases|being    |\n",
      "| 87 |        87 |          52 | many|people|dislike|french|films|for|their|lack|of |\n",
      "| 88 |        88 |          44 | the|keen|wisdom|of|an|elderly|bank|robber|,|the    |\n",
      "| 89 |        89 |          24 | robert|benton|has|assembled|a|stellar|,|mature     |\n",
      "| 90 |        90 |          18 | warning|:|anyone|offended|by|blatant|,|leering     |\n",
      "| 91 |        91 |          20 | accepting|his|oscar|as|producer|of|this|year's     |\n",
      "| 92 |        92 |          27 | a|bleak|look|at|how|the|boston|underworld|operates |\n",
      "| 93 |        93 |          24 | \"|footloose|\"|has|only|one|goal|in|mind|:|to|reel  |\n",
      "| 94 |        94 |          29 | as|i|walked|out|of|crouching|tiger|,|hidden|dragon |\n",
      "| 95 |        95 |          26 | \"|crazy/beautiful|\"|suffers|from|the               |\n",
      "| 96 |        96 |          29 | everyone|knows|someone|like|giles|de'ath|:|stuffy  |\n",
      "| 97 |        97 |          51 | for|many|people|,|procrastination|isn't|a|problem  |\n",
      "| 98 |        98 |          26 | meet|joe|black|(|reviewed|on|nov|.|27/98|)         |\n",
      "| 99 |        99 |          48 | call|it|touched|by|a|demon|.|gregory|hoblit's      |\n",
      "\n",
      "==== neg ====\n"
     ]
    },
    {
     "name": "stdout",
     "output_type": "stream",
     "text": [
      "|    |   doc_num |   sentences | start_of_first_sentence                            |\n",
      "|---:|----------:|------------:|:---------------------------------------------------|\n",
      "|  0 |         0 |          35 | plot|:|two|teen|couples|go|to|a|church|party|,     |\n",
      "|  1 |         1 |          13 | the|happy|bastard's|quick|movie|review|damn|that   |\n",
      "|  2 |         2 |          23 | it|is|movies|like|these|that|make|a|jaded|movie    |\n",
      "|  3 |         3 |          19 | \"|quest|for|camelot|\"|is|warner|bros|.|'|first     |\n",
      "|  4 |         4 |          37 | synopsis|:|a|mentally|unstable|man|undergoing      |\n",
      "|  5 |         5 |          35 | capsule|:|in|2176|on|the|planet|mars|police|taking |\n",
      "|  6 |         6 |          27 | so|ask|yourself|what|\"|8mm|\"|(|\"|eight|millimeter  |\n",
      "|  7 |         7 |          27 | that's|exactly|how|long|the|movie|felt|to|me|.     |\n",
      "|  8 |         8 |          33 | call|it|a|road|trip|for|the|walking|wounded|.      |\n",
      "|  9 |         9 |          49 | plot|:|a|young|french|boy|sees|his|parents|killed  |\n",
      "| 10 |        10 |          34 | best|remembered|for|his|understated|performance|as |\n",
      "| 11 |        11 |          26 | janeane|garofalo|in|a|romantic|comedy|--|it|was|a  |\n",
      "| 12 |        12 |          18 | and|now|the|high-flying|hong|kong|style|of         |\n",
      "| 13 |        13 |          45 | a|movie|like|mortal|kombat|:|annihilation|works|(  |\n",
      "| 14 |        14 |          33 | she|was|the|femme|in|\"|la|femme|nikita|.|\"|he|was  |\n",
      "| 15 |        15 |          28 | john|carpenter|makes|b-movies|.|always|has|(|\"     |\n",
      "| 16 |        16 |          34 | i'm|really|starting|to|wonder|about|alicia         |\n",
      "| 17 |        17 |          34 | so|what|do|you|get|when|you|mix|together|plot      |\n",
      "| 18 |        18 |          26 | the|law|of|crowd|pleasing|romantic|movies|states   |\n",
      "| 19 |        19 |          40 | mighty|joe|young|blunders|about|for|nearly|twenty  |\n",
      "| 20 |        20 |          33 | \"|spawn|\"|features|good|guys|,|bad|guys|,|lots|of  |\n",
      "| 21 |        21 |          26 | \"|in|dreams|\"|might|keep|you|awake|at|night|,|but  |\n",
      "| 22 |        22 |          39 | \"|knock|off|\"|is|exactly|that|:|a|cheap|knock|off  |\n",
      "| 23 |        23 |          36 | \"|snake|eyes|\"|is|the|most|aggravating|kind|of     |\n",
      "| 24 |        24 |          32 | forgive|the|fevered|criticism|but|the|fervor|of    |\n",
      "| 25 |        25 |          31 | one|might|expect|a|cathartic|viewing|experience    |\n",
      "| 26 |        26 |          23 | america|loves|convenience|.|after|all|,|we're|the  |\n",
      "| 27 |        27 |          43 | reindeer|games|is|easily|the|worst|of|the|three    |\n",
      "| 28 |        28 |          19 | a|follow-up|to|disney's|live-action|\"|101          |\n",
      "| 29 |        29 |          20 | one-sided|\"|doom|and|gloom|\"|documentary|about|the |\n",
      "| 30 |        30 |          25 | play|it|to|the|bone|,|the|newest|addition|to|ron   |\n",
      "| 31 |        31 |          52 | some|movies|i|should|just|skip|.|my|daughter|and|i |\n",
      "| 32 |        32 |          70 | hong|kong|cinema|has|been|going|through|a|bad      |\n",
      "| 33 |        33 |          17 | i|wish|i|could|have|been|in|the|pitch|meeting|for  |\n",
      "| 34 |        34 |          20 | if|you're|into|watching|near|on|two|hours|of|bored |\n",
      "| 35 |        35 |          37 | sean|connery|stars|as|a|harvard|law|professor|who  |\n",
      "| 36 |        36 |          14 | among|multitude|of|erotic|thrillers|,|that|had     |\n",
      "| 37 |        37 |          22 | \"|lake|placid|\"|marks|yet|another|entry|in|the     |\n",
      "| 38 |        38 |          38 | capsule|:|where|are|you|tonight|,|leni|rienfenstal |\n",
      "| 39 |        39 |          33 | the|classic|story|&|the|production|which|ruined|it |\n",
      "| 40 |        40 |          15 | lengthy|and|lousy|are|two|words|to|describe|the    |\n",
      "| 41 |        41 |          29 | out|of|sight|director|steven|sorderbergh|baffles   |\n",
      "| 42 |        42 |          23 | a|pseudo-intellectual|film|about|the               |\n",
      "| 43 |        43 |          15 | \"|party|camp|,|\"|is|one|of|the|most|mindnumbingly  |\n",
      "| 44 |        44 |          35 | i'm|currently|accepting|all|future|names|for|drew  |\n",
      "| 45 |        45 |          42 | when|it|comes|to|the|average|teenage|romantic      |\n",
      "| 46 |        46 |          39 | all|through|its|production|and|into|the|early|days |\n",
      "| 47 |        47 |          34 | instinct|is|the|kind|of|movie|that|inexperienced   |\n",
      "| 48 |        48 |          21 | sydney|lumet|is|the|director|whose|work|happens|to |\n",
      "| 49 |        49 |          42 | \"|the|world|on|land|--|it's|just|too|big|for|me|.  |\n",
      "| 50 |        50 |          30 | my|giant|is|two|movies|for|the|price|of|one|,|but  |\n",
      "| 51 |        51 |          22 | talk|about|a|movie|that|seemed|dated|before|it     |\n",
      "| 52 |        52 |          23 | this|feature|is|like|a|double|header|,|two|sets|of |\n",
      "| 53 |        53 |          73 | one|of|the|responses|those|that|enjoy|\"|detroit    |\n",
      "| 54 |        54 |          49 | has|it|really|been|two|decades|since|walter        |\n",
      "| 55 |        55 |          26 | funny|how|your|expectations|can|be|defeated|,|and  |\n",
      "| 56 |        56 |          27 | unfortunately|it|doesn't|get|much|more|formulaic   |\n",
      "| 57 |        57 |          16 | supposedly|based|on|a|true|story|in|which|the      |\n",
      "| 58 |        58 |          13 | of|course|i|knew|this|going|in|.|why|is|it|that    |\n",
      "| 59 |        59 |          16 | louie|is|a|trumpeter|swan|with|no|voice|.|in|order |\n",
      "| 60 |        60 |          28 | one|of|the|most|respected|names|in|american        |\n",
      "| 61 |        61 |          72 | 'traffic|violation'|dr|.|daniel's|review|of|u-turn |\n",
      "| 62 |        62 |          30 | there|are|two|things|the|american|film|industry    |\n",
      "| 63 |        63 |          33 | would|you|believe|--|in|real|life|,|i|mean|--|that |\n",
      "| 64 |        64 |          29 | rated|:|r|for|strong|violence|,|language|,|drug    |\n",
      "| 65 |        65 |          63 | movie|reviewers|have|an|obligation|to|see|the|good |\n",
      "| 66 |        66 |          35 | mr|.|nice|guy|is|the|latest|jackie|chan|film|,|so  |\n",
      "| 67 |        67 |          40 | \"|first|rule|of|fight|club|is|,|don't|talk|about   |\n",
      "| 68 |        68 |          19 | note|to|screenwriters|and|self|:|when|you|hit|the  |\n",
      "| 69 |        69 |          33 | the|recent|onslaught|of|film|noir|that|has|popped  |\n",
      "| 70 |        70 |          44 | it|rocks-actually|,|lots|of|rocks|fly|at|us|or     |\n",
      "| 71 |        71 |          34 | there's|a|1|,|000-foot|tidal|wave|at|the|end|of    |\n",
      "| 72 |        72 |          32 | \"|there|will|be|another|,|\"|the|ads|for|this       |\n",
      "| 73 |        73 |          31 | late|in|down|to|you|,|the|lead|female|character|(  |\n",
      "| 74 |        74 |          27 | for|better|or|worse|,|the|appearance|of|basic      |\n",
      "| 75 |        75 |          19 | it|was|with|great|anticipation|that|i|sat|down|to  |\n",
      "| 76 |        76 |          12 | susan|granger's|review|of|\"|the|watcher|\"|(        |\n",
      "| 77 |        77 |          33 | ahh|yes|.|the|teenage|romance|.|an|attractive      |\n",
      "| 78 |        78 |          20 | \"|virus|\"|is|the|type|of|cliched|,|vacuous|film    |\n",
      "| 79 |        79 |          51 | over|40|years|ago|,|a|japanese|production|company  |\n",
      "| 80 |        80 |          29 | before|the|remake|of|psycho|appears|,|we've|got|to |\n",
      "| 81 |        81 |          12 | coinciding|with|the|emerging|popularity|of|movies  |\n",
      "| 82 |        82 |          31 | edward|burns|tackles|his|third|picture|with|no     |\n",
      "| 83 |        83 |          38 | i|don't|expect|much|from|eddie|murphy|these|days|. |\n",
      "| 84 |        84 |          27 | brian|de|palma|,|the|director|who|bought|us|carrie |\n",
      "| 85 |        85 |          34 | it's|now|the|anniversary|of|the|slayings|of|julie  |\n",
      "| 86 |        86 |          48 | lucas|was|wise|to|start|his|star|wars|trilogy|with |\n",
      "| 87 |        87 |          42 | five|girls|spend|a|day|in|a|closed|building|doing  |\n",
      "| 88 |        88 |          25 | the|first|film|produced|by|adam|sandler's|happy    |\n",
      "| 89 |        89 |          22 | tectonic|plates|is|an|incredibly|painful|motion    |\n",
      "| 90 |        90 |          56 | various|films|seen|at|the|seattle|film|festival|:  |\n",
      "| 91 |        91 |          18 | capsule|:|the|weakest|and|least|engaging|of|the    |\n",
      "| 92 |        92 |          26 | \"|from|the|director|of|\"|the|nightmare|before      |\n",
      "| 93 |        93 |           9 | numerous|comparisons|can|be|made|with|this|movie   |\n",
      "| 94 |        94 |          28 | a|documentary|from|the|twin|hughes|brothers|,      |\n",
      "| 95 |        95 |          15 | gord|brody|(|tom|green|)|is|an|aspiring|animator   |\n",
      "| 96 |        96 |          43 | much|ado|about|nothing|.|ah|,|how|sweet|the|irony  |\n",
      "| 97 |        97 |          31 | another|formula|'feel|good'|quirky|comedy|from|the |\n",
      "| 98 |        98 |          22 | \"|love|to|kill|\"|starts|off|aimlessly|and|gets     |\n",
      "| 99 |        99 |          42 | whether|you|like|the|beatles|or|not|,|nobody|wants |\n"
     ]
    }
   ],
   "source": [
    "fold = 0\n",
    "for label in ['pos', 'neg']:\n",
    "    print('\\n====', label, '====')\n",
    "    \n",
    "    output_df = pd.DataFrame(columns=['doc_num', 'sentences', 'start_of_first_sentence'])\n",
    "    \n",
    "    list_of_documents = scf.get_documents(data_dict, fold, label)\n",
    "    for doc_num, document in enumerate(list_of_documents):\n",
    "        \n",
    "        doc_preview = scf.get_document_preview(document, max_length=50)\n",
    "        \n",
    "        one_row = pd.DataFrame({'doc_num': doc_num, 'sentences': len(document), 'start_of_first_sentence': doc_preview}, index=[0])\n",
    "        output_df = pd.concat([output_df, one_row], axis=0).reset_index(drop=True)\n",
    "        \n",
    "    print(output_df.to_markdown())"
   ]
  },
  {
   "cell_type": "markdown",
   "id": "exclusive-keyboard",
   "metadata": {},
   "source": [
    "# -----------------------------------------------------------------------------------------------------------------"
   ]
  },
  {
   "cell_type": "markdown",
   "id": "eastern-elimination",
   "metadata": {},
   "source": [
    "# Create training-test splits for Cross-Validation"
   ]
  },
  {
   "cell_type": "code",
   "execution_count": 10,
   "id": "global-extraction",
   "metadata": {},
   "outputs": [],
   "source": [
    "train_test_splits = scf.get_train_test_splits(data_dict)"
   ]
  },
  {
   "cell_type": "markdown",
   "id": "accurate-cutting",
   "metadata": {},
   "source": [
    "### Show the splits"
   ]
  },
  {
   "cell_type": "code",
   "execution_count": 11,
   "id": "detailed-defeat",
   "metadata": {},
   "outputs": [
    {
     "data": {
      "text/html": [
       "<div>\n",
       "<style scoped>\n",
       "    .dataframe tbody tr th:only-of-type {\n",
       "        vertical-align: middle;\n",
       "    }\n",
       "\n",
       "    .dataframe tbody tr th {\n",
       "        vertical-align: top;\n",
       "    }\n",
       "\n",
       "    .dataframe thead th {\n",
       "        text-align: right;\n",
       "    }\n",
       "</style>\n",
       "<table border=\"1\" class=\"dataframe\">\n",
       "  <thead>\n",
       "    <tr style=\"text-align: right;\">\n",
       "      <th></th>\n",
       "      <th>train_set_size</th>\n",
       "      <th>test_set_size</th>\n",
       "    </tr>\n",
       "  </thead>\n",
       "  <tbody>\n",
       "    <tr>\n",
       "      <th>0</th>\n",
       "      <td>1800</td>\n",
       "      <td>200</td>\n",
       "    </tr>\n",
       "    <tr>\n",
       "      <th>1</th>\n",
       "      <td>1800</td>\n",
       "      <td>200</td>\n",
       "    </tr>\n",
       "    <tr>\n",
       "      <th>2</th>\n",
       "      <td>1800</td>\n",
       "      <td>200</td>\n",
       "    </tr>\n",
       "    <tr>\n",
       "      <th>3</th>\n",
       "      <td>1800</td>\n",
       "      <td>200</td>\n",
       "    </tr>\n",
       "    <tr>\n",
       "      <th>4</th>\n",
       "      <td>1800</td>\n",
       "      <td>200</td>\n",
       "    </tr>\n",
       "    <tr>\n",
       "      <th>5</th>\n",
       "      <td>1800</td>\n",
       "      <td>200</td>\n",
       "    </tr>\n",
       "    <tr>\n",
       "      <th>6</th>\n",
       "      <td>1800</td>\n",
       "      <td>200</td>\n",
       "    </tr>\n",
       "    <tr>\n",
       "      <th>7</th>\n",
       "      <td>1800</td>\n",
       "      <td>200</td>\n",
       "    </tr>\n",
       "    <tr>\n",
       "      <th>8</th>\n",
       "      <td>1800</td>\n",
       "      <td>200</td>\n",
       "    </tr>\n",
       "    <tr>\n",
       "      <th>9</th>\n",
       "      <td>1800</td>\n",
       "      <td>200</td>\n",
       "    </tr>\n",
       "  </tbody>\n",
       "</table>\n",
       "</div>"
      ],
      "text/plain": [
       "  train_set_size test_set_size\n",
       "0           1800           200\n",
       "1           1800           200\n",
       "2           1800           200\n",
       "3           1800           200\n",
       "4           1800           200\n",
       "5           1800           200\n",
       "6           1800           200\n",
       "7           1800           200\n",
       "8           1800           200\n",
       "9           1800           200"
      ]
     },
     "execution_count": 11,
     "metadata": {},
     "output_type": "execute_result"
    }
   ],
   "source": [
    "num_docs_in_split = pd.DataFrame(columns=[\"train_set_size\", \"test_set_size\"])\n",
    "\n",
    "for train_data, test_data in train_test_splits:\n",
    "    one_row = pd.DataFrame({\"train_set_size\": len(train_data), \"test_set_size\": len(test_data)}, index=[0])\n",
    "    num_docs_in_split = pd.concat([num_docs_in_split, one_row], axis=0)\n",
    "    \n",
    "num_docs_in_split.reset_index(drop=True)"
   ]
  },
  {
   "cell_type": "markdown",
   "id": "forced-ebony",
   "metadata": {},
   "source": [
    "# -----------------------------------------------------------------------------------------------------------------"
   ]
  },
  {
   "cell_type": "markdown",
   "id": "complex-priority",
   "metadata": {},
   "source": [
    "# Define the Naive Bayes model"
   ]
  },
  {
   "cell_type": "code",
   "execution_count": 12,
   "id": "completed-degree",
   "metadata": {},
   "outputs": [],
   "source": [
    "#model = scf.Model(model=MultinomialNB())\n",
    "#model = scf.Model(model=LogisticRegression(multi_class='multinomial', solver='lbfgs', max_iter=200))\n",
    "#model = scf.Model(SGDClassifier())\n",
    "model = scf.Model(RandomForestClassifier())"
   ]
  },
  {
   "cell_type": "markdown",
   "id": "genuine-folder",
   "metadata": {},
   "source": [
    "### Measure the model performance using one train-test split"
   ]
  },
  {
   "cell_type": "code",
   "execution_count": 13,
   "id": "exempt-lambda",
   "metadata": {},
   "outputs": [
    {
     "name": "stdout",
     "output_type": "stream",
     "text": [
      "Accuracy = 0.825\n",
      "Confusion_matrix:\n",
      " [[88 12]\n",
      " [23 77]]\n"
     ]
    },
    {
     "data": {
      "text/html": [
       "<div>\n",
       "<style scoped>\n",
       "    .dataframe tbody tr th:only-of-type {\n",
       "        vertical-align: middle;\n",
       "    }\n",
       "\n",
       "    .dataframe tbody tr th {\n",
       "        vertical-align: top;\n",
       "    }\n",
       "\n",
       "    .dataframe thead th {\n",
       "        text-align: right;\n",
       "    }\n",
       "</style>\n",
       "<table border=\"1\" class=\"dataframe\">\n",
       "  <thead>\n",
       "    <tr style=\"text-align: right;\">\n",
       "      <th></th>\n",
       "      <th>label</th>\n",
       "      <th>prediction</th>\n",
       "      <th>documents</th>\n",
       "    </tr>\n",
       "  </thead>\n",
       "  <tbody>\n",
       "    <tr>\n",
       "      <th>0</th>\n",
       "      <td>neg</td>\n",
       "      <td>pos</td>\n",
       "      <td>plot|:|two|teen|couples|go|to|a|church|party|,</td>\n",
       "    </tr>\n",
       "    <tr>\n",
       "      <th>1</th>\n",
       "      <td>neg</td>\n",
       "      <td>neg</td>\n",
       "      <td>the|happy|bastard's|quick|movie|review|damn|that</td>\n",
       "    </tr>\n",
       "    <tr>\n",
       "      <th>2</th>\n",
       "      <td>neg</td>\n",
       "      <td>neg</td>\n",
       "      <td>it|is|movies|like|these|that|make|a|jaded|movie</td>\n",
       "    </tr>\n",
       "    <tr>\n",
       "      <th>3</th>\n",
       "      <td>neg</td>\n",
       "      <td>neg</td>\n",
       "      <td>\"|quest|for|camelot|\"|is|warner|bros|.|'|first</td>\n",
       "    </tr>\n",
       "    <tr>\n",
       "      <th>4</th>\n",
       "      <td>neg</td>\n",
       "      <td>neg</td>\n",
       "      <td>synopsis|:|a|mentally|unstable|man|undergoing</td>\n",
       "    </tr>\n",
       "    <tr>\n",
       "      <th>5</th>\n",
       "      <td>neg</td>\n",
       "      <td>neg</td>\n",
       "      <td>capsule|:|in|2176|on|the|planet|mars|police|ta...</td>\n",
       "    </tr>\n",
       "    <tr>\n",
       "      <th>6</th>\n",
       "      <td>neg</td>\n",
       "      <td>neg</td>\n",
       "      <td>so|ask|yourself|what|\"|8mm|\"|(|\"|eight|millimeter</td>\n",
       "    </tr>\n",
       "    <tr>\n",
       "      <th>7</th>\n",
       "      <td>neg</td>\n",
       "      <td>neg</td>\n",
       "      <td>that's|exactly|how|long|the|movie|felt|to|me|.</td>\n",
       "    </tr>\n",
       "    <tr>\n",
       "      <th>8</th>\n",
       "      <td>neg</td>\n",
       "      <td>neg</td>\n",
       "      <td>call|it|a|road|trip|for|the|walking|wounded|.</td>\n",
       "    </tr>\n",
       "    <tr>\n",
       "      <th>9</th>\n",
       "      <td>neg</td>\n",
       "      <td>neg</td>\n",
       "      <td>plot|:|a|young|french|boy|sees|his|parents|killed</td>\n",
       "    </tr>\n",
       "  </tbody>\n",
       "</table>\n",
       "</div>"
      ],
      "text/plain": [
       "  label prediction                                          documents\n",
       "0   neg        pos     plot|:|two|teen|couples|go|to|a|church|party|,\n",
       "1   neg        neg   the|happy|bastard's|quick|movie|review|damn|that\n",
       "2   neg        neg    it|is|movies|like|these|that|make|a|jaded|movie\n",
       "3   neg        neg     \"|quest|for|camelot|\"|is|warner|bros|.|'|first\n",
       "4   neg        neg      synopsis|:|a|mentally|unstable|man|undergoing\n",
       "5   neg        neg  capsule|:|in|2176|on|the|planet|mars|police|ta...\n",
       "6   neg        neg  so|ask|yourself|what|\"|8mm|\"|(|\"|eight|millimeter\n",
       "7   neg        neg     that's|exactly|how|long|the|movie|felt|to|me|.\n",
       "8   neg        neg      call|it|a|road|trip|for|the|walking|wounded|.\n",
       "9   neg        neg  plot|:|a|young|french|boy|sees|his|parents|killed"
      ]
     },
     "execution_count": 13,
     "metadata": {},
     "output_type": "execute_result"
    }
   ],
   "source": [
    "sample_train_data, sample_test_data = train_test_splits[0]\n",
    "model.train(sample_train_data)\n",
    "scf.print_first_n_predictions(model, sample_test_data, num_predictions=10, len_preview=50)"
   ]
  },
  {
   "cell_type": "markdown",
   "id": "cubic-sharing",
   "metadata": {},
   "source": [
    "### Measure the model performance Cross-Validating across all train-test splits"
   ]
  },
  {
   "cell_type": "code",
   "execution_count": 16,
   "id": "premium-adult",
   "metadata": {},
   "outputs": [
    {
     "name": "stdout",
     "output_type": "stream",
     "text": [
      "   Fold 1 - 16 seconds --> Accuracy score = 0.795\n",
      "   Fold 2 - 16 seconds --> Accuracy score = 0.815\n",
      "   Fold 3 - 16 seconds --> Accuracy score = 0.815\n",
      "   Fold 4 - 16 seconds --> Accuracy score = 0.81\n",
      "   Fold 5 - 16 seconds --> Accuracy score = 0.755\n",
      "   Fold 6 - 16 seconds --> Accuracy score = 0.85\n",
      "   Fold 7 - 15 seconds --> Accuracy score = 0.845\n",
      "   Fold 8 - 16 seconds --> Accuracy score = 0.825\n",
      "   Fold 9 - 16 seconds --> Accuracy score = 0.81\n",
      "   Fold 10 - 16 seconds --> Accuracy score = 0.825\n"
     ]
    },
    {
     "data": {
      "image/png": "[encoded data removed]",
      "text/plain": [
       "<Figure size 432x288 with 2 Axes>"
      ]
     },
     "metadata": {
      "needs_background": "light"
     },
     "output_type": "display_data"
    },
    {
     "data": {
      "text/html": [
       "<div>\n",
       "<style scoped>\n",
       "    .dataframe tbody tr th:only-of-type {\n",
       "        vertical-align: middle;\n",
       "    }\n",
       "\n",
       "    .dataframe tbody tr th {\n",
       "        vertical-align: top;\n",
       "    }\n",
       "\n",
       "    .dataframe thead th {\n",
       "        text-align: right;\n",
       "    }\n",
       "</style>\n",
       "<table border=\"1\" class=\"dataframe\">\n",
       "  <thead>\n",
       "    <tr style=\"text-align: right;\">\n",
       "      <th></th>\n",
       "      <th>Model</th>\n",
       "      <th>Avg Accuracy</th>\n",
       "      <th>Root Mean Squared Error</th>\n",
       "      <th>Min Accuracy</th>\n",
       "      <th>Max Accuracy</th>\n",
       "      <th>Total Time (s)</th>\n",
       "      <th>All Fold Averages</th>\n",
       "    </tr>\n",
       "  </thead>\n",
       "  <tbody>\n",
       "    <tr>\n",
       "      <th>0</th>\n",
       "      <td>blank_model_name</td>\n",
       "      <td>0.8145</td>\n",
       "      <td>0.025244</td>\n",
       "      <td>0.755</td>\n",
       "      <td>0.85</td>\n",
       "      <td>159.43</td>\n",
       "      <td>[0.795, 0.815, 0.815, 0.81, 0.755, 0.85, 0.845...</td>\n",
       "    </tr>\n",
       "  </tbody>\n",
       "</table>\n",
       "</div>"
      ],
      "text/plain": [
       "              Model  Avg Accuracy  Root Mean Squared Error  Min Accuracy  \\\n",
       "0  blank_model_name        0.8145                 0.025244         0.755   \n",
       "\n",
       "   Max Accuracy  Total Time (s)  \\\n",
       "0          0.85          159.43   \n",
       "\n",
       "                                   All Fold Averages  \n",
       "0  [0.795, 0.815, 0.815, 0.81, 0.755, 0.85, 0.845...  "
      ]
     },
     "execution_count": 16,
     "metadata": {},
     "output_type": "execute_result"
    }
   ],
   "source": [
    "scf.evaluate_model(\"blank_model_name\", model, train_test_splits, fold_verbose=True, plot_folds=True)"
   ]
  },
  {
   "cell_type": "markdown",
   "id": "endangered-boston",
   "metadata": {},
   "source": [
    "# -----------------------------------------------------------------------------------------------------------------"
   ]
  },
  {
   "cell_type": "markdown",
   "id": "painful-victor",
   "metadata": {},
   "source": [
    "# Compare different models"
   ]
  },
  {
   "cell_type": "markdown",
   "id": "ideal-office",
   "metadata": {},
   "source": [
    "### Choose the models to use and the parameters to experiment with"
   ]
  },
  {
   "cell_type": "markdown",
   "id": "gross-somalia",
   "metadata": {},
   "source": [
    "Default models\n",
    " - sklearn.naive_bayes.MultinomialNB(*, alpha=1.0, fit_prior=True, class_prior=None)\n",
    " - sklearn.linear_model.LogisticRegression(penalty='l2', *, dual=False, tol=0.0001, C=1.0, fit_intercept=True, intercept_scaling=1, class_weight=None, random_state=None, solver='lbfgs', max_iter=100, multi_class='auto', verbose=0, warm_start=False, n_jobs=None, l1_ratio=None)\n",
    " - sklearn.linear_model.SGDClassifier(loss='hinge', *, penalty='l2', alpha=0.0001, l1_ratio=0.15, fit_intercept=True, max_iter=1000, tol=0.001, shuffle=True, verbose=0, epsilon=0.1, n_jobs=None, random_state=None, learning_rate='optimal', eta0=0.0, power_t=0.5, early_stopping=False, validation_fraction=0.1, n_iter_no_change=5, class_weight=None, warm_start=False, average=False)\n",
    " - sklearn.ensemble.RandomForestClassifier(n_estimators=100, *, criterion='gini', max_depth=None, min_samples_split=2, min_samples_leaf=1, min_weight_fraction_leaf=0.0, max_features='auto', max_leaf_nodes=None, min_impurity_decrease=0.0, min_impurity_split=None, bootstrap=True, oob_score=False, n_jobs=None, random_state=None, verbose=0, warm_start=False, class_weight=None, ccp_alpha=0.0, max_samples=None)"
   ]
  },
  {
   "cell_type": "code",
   "execution_count": 27,
   "id": "married-contrary",
   "metadata": {},
   "outputs": [],
   "source": [
    "model_dict = {#MultinomialNB(): \"Naive Bayes\",\n",
    "              #LogisticRegression(multi_class='multinomial', solver='lbfgs', max_iter=200): \"Logistic Regression\",\n",
    "              #SGDClassifier(): \"Support Vector Machine\",\n",
    "              RandomForestClassifier(): \"Random Forest\",\n",
    "             }\n",
    "\n",
    "clip_counts_dict = {True: \"with clip counts\",\n",
    "                    False: \"no clip counts\",\n",
    "                   }\n",
    "\n",
    "ngram_size_dict = {1: \"Unigram\",\n",
    "                   2: \"Bigram\",\n",
    "                   3: \"Trigram\",\n",
    "                  }"
   ]
  },
  {
   "cell_type": "markdown",
   "id": "listed-junior",
   "metadata": {},
   "source": [
    "### Define the models with the varying parameters"
   ]
  },
  {
   "cell_type": "code",
   "execution_count": 28,
   "id": "typical-judgment",
   "metadata": {},
   "outputs": [
    {
     "data": {
      "text/plain": [
       "{'Unigram Random Forest with clip counts': <Classes_and_functions.Model at 0x257aa1f7be0>,\n",
       " 'Unigram Random Forest no clip counts': <Classes_and_functions.Model at 0x257aa1f7c10>,\n",
       " 'Bigram Random Forest with clip counts': <Classes_and_functions.Model at 0x257aa1f7c70>,\n",
       " 'Bigram Random Forest no clip counts': <Classes_and_functions.Model at 0x257aa1f7d60>,\n",
       " 'Trigram Random Forest with clip counts': <Classes_and_functions.Model at 0x257aa1f7df0>,\n",
       " 'Trigram Random Forest no clip counts': <Classes_and_functions.Model at 0x257aa1f7e50>}"
      ]
     },
     "execution_count": 28,
     "metadata": {},
     "output_type": "execute_result"
    }
   ],
   "source": [
    "models_to_compare = scf.define_models_with_params(model_dict, ngram_size_dict, clip_counts_dict)"
   ]
  },
  {
   "cell_type": "markdown",
   "id": "sunset-state",
   "metadata": {},
   "source": [
    "### Train & test these models to compare them"
   ]
  },
  {
   "cell_type": "code",
   "execution_count": 77,
   "id": "boring-geometry",
   "metadata": {},
   "outputs": [
    {
     "data": {
      "application/vnd.jupyter.widget-view+json": {
       "model_id": "b61fbe41a9d74e60974fec3e3c5ba6a2",
       "version_major": 2,
       "version_minor": 0
      },
      "text/plain": [
       "HBox(children=(HTML(value=''), FloatProgress(value=0.0, max=6.0), HTML(value='')))"
      ]
     },
     "metadata": {},
     "output_type": "display_data"
    },
    {
     "name": "stdout",
     "output_type": "stream",
     "text": [
      "\n",
      "Unigram Random Forest with clip counts\n"
     ]
    },
    {
     "data": {
      "image/png": "[encoded data removed]",
      "text/plain": [
       "<Figure size 432x288 with 2 Axes>"
      ]
     },
     "metadata": {
      "needs_background": "light"
     },
     "output_type": "display_data"
    },
    {
     "name": "stdout",
     "output_type": "stream",
     "text": [
      "\n",
      "Unigram Random Forest no clip counts\n",
      "\n"
     ]
    },
    {
     "ename": "KeyboardInterrupt",
     "evalue": "",
     "output_type": "error",
     "traceback": [
      "\u001b[1;31m---------------------------------------------------------------------------\u001b[0m",
      "\u001b[1;31mKeyboardInterrupt\u001b[0m                         Traceback (most recent call last)",
      "\u001b[1;32m<ipython-input-77-3472f056d92c>\u001b[0m in \u001b[0;36m<module>\u001b[1;34m\u001b[0m\n\u001b[0;32m      2\u001b[0m \u001b[1;32mfor\u001b[0m \u001b[0mmodel_name\u001b[0m\u001b[1;33m,\u001b[0m \u001b[0mmodel\u001b[0m \u001b[1;32min\u001b[0m \u001b[0mtqdm\u001b[0m\u001b[1;33m(\u001b[0m\u001b[0mmodels_to_compare\u001b[0m\u001b[1;33m.\u001b[0m\u001b[0mitems\u001b[0m\u001b[1;33m(\u001b[0m\u001b[1;33m)\u001b[0m\u001b[1;33m)\u001b[0m\u001b[1;33m:\u001b[0m\u001b[1;33m\u001b[0m\u001b[1;33m\u001b[0m\u001b[0m\n\u001b[0;32m      3\u001b[0m     \u001b[0mprint\u001b[0m\u001b[1;33m(\u001b[0m\u001b[1;34m\"\\n\"\u001b[0m \u001b[1;33m+\u001b[0m \u001b[0mmodel_name\u001b[0m\u001b[1;33m)\u001b[0m\u001b[1;33m\u001b[0m\u001b[1;33m\u001b[0m\u001b[0m\n\u001b[1;32m----> 4\u001b[1;33m     \u001b[0mmodel_eval_df\u001b[0m \u001b[1;33m=\u001b[0m \u001b[0mpy\u001b[0m\u001b[1;33m.\u001b[0m\u001b[0mevaluate_model\u001b[0m\u001b[1;33m(\u001b[0m\u001b[0mmodel_name\u001b[0m\u001b[1;33m,\u001b[0m \u001b[0mmodel\u001b[0m\u001b[1;33m,\u001b[0m \u001b[0mtrain_test_splits\u001b[0m\u001b[1;33m,\u001b[0m \u001b[0mfold_verbose\u001b[0m\u001b[1;33m=\u001b[0m\u001b[1;32mFalse\u001b[0m\u001b[1;33m,\u001b[0m \u001b[0mplot_folds\u001b[0m\u001b[1;33m=\u001b[0m\u001b[1;32mTrue\u001b[0m\u001b[1;33m)\u001b[0m\u001b[1;33m\u001b[0m\u001b[1;33m\u001b[0m\u001b[0m\n\u001b[0m\u001b[0;32m      5\u001b[0m     \u001b[0meval_df\u001b[0m \u001b[1;33m=\u001b[0m \u001b[0mpd\u001b[0m\u001b[1;33m.\u001b[0m\u001b[0mconcat\u001b[0m\u001b[1;33m(\u001b[0m\u001b[1;33m[\u001b[0m\u001b[0meval_df\u001b[0m\u001b[1;33m,\u001b[0m \u001b[0mmodel_eval_df\u001b[0m\u001b[1;33m]\u001b[0m\u001b[1;33m,\u001b[0m \u001b[0maxis\u001b[0m\u001b[1;33m=\u001b[0m\u001b[1;36m0\u001b[0m\u001b[1;33m)\u001b[0m\u001b[1;33m.\u001b[0m\u001b[0mreset_index\u001b[0m\u001b[1;33m(\u001b[0m\u001b[0mdrop\u001b[0m\u001b[1;33m=\u001b[0m\u001b[1;32mTrue\u001b[0m\u001b[1;33m)\u001b[0m\u001b[1;33m\u001b[0m\u001b[1;33m\u001b[0m\u001b[0m\n",
      "\u001b[1;32m~\\Documents\\College\\NLP\\Assignment_2\\nlp_assignment_2\\Classes_and_functions.py\u001b[0m in \u001b[0;36mevaluate_model\u001b[1;34m(model_name, model, train_test_tuples, fold_verbose, plot_folds)\u001b[0m\n\u001b[0;32m    454\u001b[0m \u001b[1;33m\u001b[0m\u001b[0m\n\u001b[0;32m    455\u001b[0m         \u001b[1;31m# train the model on each set as we iterate\u001b[0m\u001b[1;33m\u001b[0m\u001b[1;33m\u001b[0m\u001b[1;33m\u001b[0m\u001b[0m\n\u001b[1;32m--> 456\u001b[1;33m         \u001b[0mmodel\u001b[0m\u001b[1;33m.\u001b[0m\u001b[0mtrain\u001b[0m\u001b[1;33m(\u001b[0m\u001b[0mtrain_data\u001b[0m\u001b[1;33m)\u001b[0m\u001b[1;33m\u001b[0m\u001b[1;33m\u001b[0m\u001b[0m\n\u001b[0m\u001b[0;32m    457\u001b[0m \u001b[1;33m\u001b[0m\u001b[0m\n\u001b[0;32m    458\u001b[0m         \u001b[1;31m# get an accuracy score for the trained model\u001b[0m\u001b[1;33m\u001b[0m\u001b[1;33m\u001b[0m\u001b[1;33m\u001b[0m\u001b[0m\n",
      "\u001b[1;32m~\\Documents\\College\\NLP\\Assignment_2\\nlp_assignment_2\\Classes_and_functions.py\u001b[0m in \u001b[0;36mtrain\u001b[1;34m(self, data_with_labels)\u001b[0m\n\u001b[0;32m    297\u001b[0m \u001b[1;33m\u001b[0m\u001b[0m\n\u001b[0;32m    298\u001b[0m         \u001b[1;31m# train the model on the features - pass numpy array to sklearn to train NB\u001b[0m\u001b[1;33m\u001b[0m\u001b[1;33m\u001b[0m\u001b[1;33m\u001b[0m\u001b[0m\n\u001b[1;32m--> 299\u001b[1;33m         \u001b[0mself\u001b[0m\u001b[1;33m.\u001b[0m\u001b[0mmodel\u001b[0m\u001b[1;33m.\u001b[0m\u001b[0mfit\u001b[0m\u001b[1;33m(\u001b[0m\u001b[0mextracted_features\u001b[0m\u001b[1;33m,\u001b[0m \u001b[0mtargets\u001b[0m\u001b[1;33m)\u001b[0m\u001b[1;33m\u001b[0m\u001b[1;33m\u001b[0m\u001b[0m\n\u001b[0m\u001b[0;32m    300\u001b[0m \u001b[1;33m\u001b[0m\u001b[0m\n\u001b[0;32m    301\u001b[0m \u001b[1;33m\u001b[0m\u001b[0m\n",
      "\u001b[1;32m~\\.conda\\envs\\python_all\\lib\\site-packages\\sklearn\\ensemble\\_forest.py\u001b[0m in \u001b[0;36mfit\u001b[1;34m(self, X, y, sample_weight)\u001b[0m\n\u001b[0;32m    385\u001b[0m             \u001b[1;31m# parallel_backend contexts set at a higher level,\u001b[0m\u001b[1;33m\u001b[0m\u001b[1;33m\u001b[0m\u001b[1;33m\u001b[0m\u001b[0m\n\u001b[0;32m    386\u001b[0m             \u001b[1;31m# since correctness does not rely on using threads.\u001b[0m\u001b[1;33m\u001b[0m\u001b[1;33m\u001b[0m\u001b[1;33m\u001b[0m\u001b[0m\n\u001b[1;32m--> 387\u001b[1;33m             trees = Parallel(n_jobs=self.n_jobs, verbose=self.verbose,\n\u001b[0m\u001b[0;32m    388\u001b[0m                              \u001b[1;33m**\u001b[0m\u001b[0m_joblib_parallel_args\u001b[0m\u001b[1;33m(\u001b[0m\u001b[0mprefer\u001b[0m\u001b[1;33m=\u001b[0m\u001b[1;34m'threads'\u001b[0m\u001b[1;33m)\u001b[0m\u001b[1;33m)\u001b[0m\u001b[1;33m(\u001b[0m\u001b[1;33m\u001b[0m\u001b[1;33m\u001b[0m\u001b[0m\n\u001b[0;32m    389\u001b[0m                 delayed(_parallel_build_trees)(\n",
      "\u001b[1;32m~\\.conda\\envs\\python_all\\lib\\site-packages\\joblib\\parallel.py\u001b[0m in \u001b[0;36m__call__\u001b[1;34m(self, iterable)\u001b[0m\n\u001b[0;32m   1049\u001b[0m                 \u001b[0mself\u001b[0m\u001b[1;33m.\u001b[0m\u001b[0m_iterating\u001b[0m \u001b[1;33m=\u001b[0m \u001b[0mself\u001b[0m\u001b[1;33m.\u001b[0m\u001b[0m_original_iterator\u001b[0m \u001b[1;32mis\u001b[0m \u001b[1;32mnot\u001b[0m \u001b[1;32mNone\u001b[0m\u001b[1;33m\u001b[0m\u001b[1;33m\u001b[0m\u001b[0m\n\u001b[0;32m   1050\u001b[0m \u001b[1;33m\u001b[0m\u001b[0m\n\u001b[1;32m-> 1051\u001b[1;33m             \u001b[1;32mwhile\u001b[0m \u001b[0mself\u001b[0m\u001b[1;33m.\u001b[0m\u001b[0mdispatch_one_batch\u001b[0m\u001b[1;33m(\u001b[0m\u001b[0miterator\u001b[0m\u001b[1;33m)\u001b[0m\u001b[1;33m:\u001b[0m\u001b[1;33m\u001b[0m\u001b[1;33m\u001b[0m\u001b[0m\n\u001b[0m\u001b[0;32m   1052\u001b[0m                 \u001b[1;32mpass\u001b[0m\u001b[1;33m\u001b[0m\u001b[1;33m\u001b[0m\u001b[0m\n\u001b[0;32m   1053\u001b[0m \u001b[1;33m\u001b[0m\u001b[0m\n",
      "\u001b[1;32m~\\.conda\\envs\\python_all\\lib\\site-packages\\joblib\\parallel.py\u001b[0m in \u001b[0;36mdispatch_one_batch\u001b[1;34m(self, iterator)\u001b[0m\n\u001b[0;32m    864\u001b[0m                 \u001b[1;32mreturn\u001b[0m \u001b[1;32mFalse\u001b[0m\u001b[1;33m\u001b[0m\u001b[1;33m\u001b[0m\u001b[0m\n\u001b[0;32m    865\u001b[0m             \u001b[1;32melse\u001b[0m\u001b[1;33m:\u001b[0m\u001b[1;33m\u001b[0m\u001b[1;33m\u001b[0m\u001b[0m\n\u001b[1;32m--> 866\u001b[1;33m                 \u001b[0mself\u001b[0m\u001b[1;33m.\u001b[0m\u001b[0m_dispatch\u001b[0m\u001b[1;33m(\u001b[0m\u001b[0mtasks\u001b[0m\u001b[1;33m)\u001b[0m\u001b[1;33m\u001b[0m\u001b[1;33m\u001b[0m\u001b[0m\n\u001b[0m\u001b[0;32m    867\u001b[0m                 \u001b[1;32mreturn\u001b[0m \u001b[1;32mTrue\u001b[0m\u001b[1;33m\u001b[0m\u001b[1;33m\u001b[0m\u001b[0m\n\u001b[0;32m    868\u001b[0m \u001b[1;33m\u001b[0m\u001b[0m\n",
      "\u001b[1;32m~\\.conda\\envs\\python_all\\lib\\site-packages\\joblib\\parallel.py\u001b[0m in \u001b[0;36m_dispatch\u001b[1;34m(self, batch)\u001b[0m\n\u001b[0;32m    782\u001b[0m         \u001b[1;32mwith\u001b[0m \u001b[0mself\u001b[0m\u001b[1;33m.\u001b[0m\u001b[0m_lock\u001b[0m\u001b[1;33m:\u001b[0m\u001b[1;33m\u001b[0m\u001b[1;33m\u001b[0m\u001b[0m\n\u001b[0;32m    783\u001b[0m             \u001b[0mjob_idx\u001b[0m \u001b[1;33m=\u001b[0m \u001b[0mlen\u001b[0m\u001b[1;33m(\u001b[0m\u001b[0mself\u001b[0m\u001b[1;33m.\u001b[0m\u001b[0m_jobs\u001b[0m\u001b[1;33m)\u001b[0m\u001b[1;33m\u001b[0m\u001b[1;33m\u001b[0m\u001b[0m\n\u001b[1;32m--> 784\u001b[1;33m             \u001b[0mjob\u001b[0m \u001b[1;33m=\u001b[0m \u001b[0mself\u001b[0m\u001b[1;33m.\u001b[0m\u001b[0m_backend\u001b[0m\u001b[1;33m.\u001b[0m\u001b[0mapply_async\u001b[0m\u001b[1;33m(\u001b[0m\u001b[0mbatch\u001b[0m\u001b[1;33m,\u001b[0m \u001b[0mcallback\u001b[0m\u001b[1;33m=\u001b[0m\u001b[0mcb\u001b[0m\u001b[1;33m)\u001b[0m\u001b[1;33m\u001b[0m\u001b[1;33m\u001b[0m\u001b[0m\n\u001b[0m\u001b[0;32m    785\u001b[0m             \u001b[1;31m# A job can complete so quickly than its callback is\u001b[0m\u001b[1;33m\u001b[0m\u001b[1;33m\u001b[0m\u001b[1;33m\u001b[0m\u001b[0m\n\u001b[0;32m    786\u001b[0m             \u001b[1;31m# called before we get here, causing self._jobs to\u001b[0m\u001b[1;33m\u001b[0m\u001b[1;33m\u001b[0m\u001b[1;33m\u001b[0m\u001b[0m\n",
      "\u001b[1;32m~\\.conda\\envs\\python_all\\lib\\site-packages\\joblib\\_parallel_backends.py\u001b[0m in \u001b[0;36mapply_async\u001b[1;34m(self, func, callback)\u001b[0m\n\u001b[0;32m    206\u001b[0m     \u001b[1;32mdef\u001b[0m \u001b[0mapply_async\u001b[0m\u001b[1;33m(\u001b[0m\u001b[0mself\u001b[0m\u001b[1;33m,\u001b[0m \u001b[0mfunc\u001b[0m\u001b[1;33m,\u001b[0m \u001b[0mcallback\u001b[0m\u001b[1;33m=\u001b[0m\u001b[1;32mNone\u001b[0m\u001b[1;33m)\u001b[0m\u001b[1;33m:\u001b[0m\u001b[1;33m\u001b[0m\u001b[1;33m\u001b[0m\u001b[0m\n\u001b[0;32m    207\u001b[0m         \u001b[1;34m\"\"\"Schedule a func to be run\"\"\"\u001b[0m\u001b[1;33m\u001b[0m\u001b[1;33m\u001b[0m\u001b[0m\n\u001b[1;32m--> 208\u001b[1;33m         \u001b[0mresult\u001b[0m \u001b[1;33m=\u001b[0m \u001b[0mImmediateResult\u001b[0m\u001b[1;33m(\u001b[0m\u001b[0mfunc\u001b[0m\u001b[1;33m)\u001b[0m\u001b[1;33m\u001b[0m\u001b[1;33m\u001b[0m\u001b[0m\n\u001b[0m\u001b[0;32m    209\u001b[0m         \u001b[1;32mif\u001b[0m \u001b[0mcallback\u001b[0m\u001b[1;33m:\u001b[0m\u001b[1;33m\u001b[0m\u001b[1;33m\u001b[0m\u001b[0m\n\u001b[0;32m    210\u001b[0m             \u001b[0mcallback\u001b[0m\u001b[1;33m(\u001b[0m\u001b[0mresult\u001b[0m\u001b[1;33m)\u001b[0m\u001b[1;33m\u001b[0m\u001b[1;33m\u001b[0m\u001b[0m\n",
      "\u001b[1;32m~\\.conda\\envs\\python_all\\lib\\site-packages\\joblib\\_parallel_backends.py\u001b[0m in \u001b[0;36m__init__\u001b[1;34m(self, batch)\u001b[0m\n\u001b[0;32m    570\u001b[0m         \u001b[1;31m# Don't delay the application, to avoid keeping the input\u001b[0m\u001b[1;33m\u001b[0m\u001b[1;33m\u001b[0m\u001b[1;33m\u001b[0m\u001b[0m\n\u001b[0;32m    571\u001b[0m         \u001b[1;31m# arguments in memory\u001b[0m\u001b[1;33m\u001b[0m\u001b[1;33m\u001b[0m\u001b[1;33m\u001b[0m\u001b[0m\n\u001b[1;32m--> 572\u001b[1;33m         \u001b[0mself\u001b[0m\u001b[1;33m.\u001b[0m\u001b[0mresults\u001b[0m \u001b[1;33m=\u001b[0m \u001b[0mbatch\u001b[0m\u001b[1;33m(\u001b[0m\u001b[1;33m)\u001b[0m\u001b[1;33m\u001b[0m\u001b[1;33m\u001b[0m\u001b[0m\n\u001b[0m\u001b[0;32m    573\u001b[0m \u001b[1;33m\u001b[0m\u001b[0m\n\u001b[0;32m    574\u001b[0m     \u001b[1;32mdef\u001b[0m \u001b[0mget\u001b[0m\u001b[1;33m(\u001b[0m\u001b[0mself\u001b[0m\u001b[1;33m)\u001b[0m\u001b[1;33m:\u001b[0m\u001b[1;33m\u001b[0m\u001b[1;33m\u001b[0m\u001b[0m\n",
      "\u001b[1;32m~\\.conda\\envs\\python_all\\lib\\site-packages\\joblib\\parallel.py\u001b[0m in \u001b[0;36m__call__\u001b[1;34m(self)\u001b[0m\n\u001b[0;32m    260\u001b[0m         \u001b[1;31m# change the default number of processes to -1\u001b[0m\u001b[1;33m\u001b[0m\u001b[1;33m\u001b[0m\u001b[1;33m\u001b[0m\u001b[0m\n\u001b[0;32m    261\u001b[0m         \u001b[1;32mwith\u001b[0m \u001b[0mparallel_backend\u001b[0m\u001b[1;33m(\u001b[0m\u001b[0mself\u001b[0m\u001b[1;33m.\u001b[0m\u001b[0m_backend\u001b[0m\u001b[1;33m,\u001b[0m \u001b[0mn_jobs\u001b[0m\u001b[1;33m=\u001b[0m\u001b[0mself\u001b[0m\u001b[1;33m.\u001b[0m\u001b[0m_n_jobs\u001b[0m\u001b[1;33m)\u001b[0m\u001b[1;33m:\u001b[0m\u001b[1;33m\u001b[0m\u001b[1;33m\u001b[0m\u001b[0m\n\u001b[1;32m--> 262\u001b[1;33m             return [func(*args, **kwargs)\n\u001b[0m\u001b[0;32m    263\u001b[0m                     for func, args, kwargs in self.items]\n\u001b[0;32m    264\u001b[0m \u001b[1;33m\u001b[0m\u001b[0m\n",
      "\u001b[1;32m~\\.conda\\envs\\python_all\\lib\\site-packages\\joblib\\parallel.py\u001b[0m in \u001b[0;36m<listcomp>\u001b[1;34m(.0)\u001b[0m\n\u001b[0;32m    260\u001b[0m         \u001b[1;31m# change the default number of processes to -1\u001b[0m\u001b[1;33m\u001b[0m\u001b[1;33m\u001b[0m\u001b[1;33m\u001b[0m\u001b[0m\n\u001b[0;32m    261\u001b[0m         \u001b[1;32mwith\u001b[0m \u001b[0mparallel_backend\u001b[0m\u001b[1;33m(\u001b[0m\u001b[0mself\u001b[0m\u001b[1;33m.\u001b[0m\u001b[0m_backend\u001b[0m\u001b[1;33m,\u001b[0m \u001b[0mn_jobs\u001b[0m\u001b[1;33m=\u001b[0m\u001b[0mself\u001b[0m\u001b[1;33m.\u001b[0m\u001b[0m_n_jobs\u001b[0m\u001b[1;33m)\u001b[0m\u001b[1;33m:\u001b[0m\u001b[1;33m\u001b[0m\u001b[1;33m\u001b[0m\u001b[0m\n\u001b[1;32m--> 262\u001b[1;33m             return [func(*args, **kwargs)\n\u001b[0m\u001b[0;32m    263\u001b[0m                     for func, args, kwargs in self.items]\n\u001b[0;32m    264\u001b[0m \u001b[1;33m\u001b[0m\u001b[0m\n",
      "\u001b[1;32m~\\.conda\\envs\\python_all\\lib\\site-packages\\sklearn\\utils\\fixes.py\u001b[0m in \u001b[0;36m__call__\u001b[1;34m(self, *args, **kwargs)\u001b[0m\n\u001b[0;32m    220\u001b[0m     \u001b[1;32mdef\u001b[0m \u001b[0m__call__\u001b[0m\u001b[1;33m(\u001b[0m\u001b[0mself\u001b[0m\u001b[1;33m,\u001b[0m \u001b[1;33m*\u001b[0m\u001b[0margs\u001b[0m\u001b[1;33m,\u001b[0m \u001b[1;33m**\u001b[0m\u001b[0mkwargs\u001b[0m\u001b[1;33m)\u001b[0m\u001b[1;33m:\u001b[0m\u001b[1;33m\u001b[0m\u001b[1;33m\u001b[0m\u001b[0m\n\u001b[0;32m    221\u001b[0m         \u001b[1;32mwith\u001b[0m \u001b[0mconfig_context\u001b[0m\u001b[1;33m(\u001b[0m\u001b[1;33m**\u001b[0m\u001b[0mself\u001b[0m\u001b[1;33m.\u001b[0m\u001b[0mconfig\u001b[0m\u001b[1;33m)\u001b[0m\u001b[1;33m:\u001b[0m\u001b[1;33m\u001b[0m\u001b[1;33m\u001b[0m\u001b[0m\n\u001b[1;32m--> 222\u001b[1;33m             \u001b[1;32mreturn\u001b[0m \u001b[0mself\u001b[0m\u001b[1;33m.\u001b[0m\u001b[0mfunction\u001b[0m\u001b[1;33m(\u001b[0m\u001b[1;33m*\u001b[0m\u001b[0margs\u001b[0m\u001b[1;33m,\u001b[0m \u001b[1;33m**\u001b[0m\u001b[0mkwargs\u001b[0m\u001b[1;33m)\u001b[0m\u001b[1;33m\u001b[0m\u001b[1;33m\u001b[0m\u001b[0m\n\u001b[0m",
      "\u001b[1;32m~\\.conda\\envs\\python_all\\lib\\site-packages\\sklearn\\ensemble\\_forest.py\u001b[0m in \u001b[0;36m_parallel_build_trees\u001b[1;34m(tree, forest, X, y, sample_weight, tree_idx, n_trees, verbose, class_weight, n_samples_bootstrap)\u001b[0m\n\u001b[0;32m    167\u001b[0m                                                         indices=indices)\n\u001b[0;32m    168\u001b[0m \u001b[1;33m\u001b[0m\u001b[0m\n\u001b[1;32m--> 169\u001b[1;33m         \u001b[0mtree\u001b[0m\u001b[1;33m.\u001b[0m\u001b[0mfit\u001b[0m\u001b[1;33m(\u001b[0m\u001b[0mX\u001b[0m\u001b[1;33m,\u001b[0m \u001b[0my\u001b[0m\u001b[1;33m,\u001b[0m \u001b[0msample_weight\u001b[0m\u001b[1;33m=\u001b[0m\u001b[0mcurr_sample_weight\u001b[0m\u001b[1;33m,\u001b[0m \u001b[0mcheck_input\u001b[0m\u001b[1;33m=\u001b[0m\u001b[1;32mFalse\u001b[0m\u001b[1;33m)\u001b[0m\u001b[1;33m\u001b[0m\u001b[1;33m\u001b[0m\u001b[0m\n\u001b[0m\u001b[0;32m    170\u001b[0m     \u001b[1;32melse\u001b[0m\u001b[1;33m:\u001b[0m\u001b[1;33m\u001b[0m\u001b[1;33m\u001b[0m\u001b[0m\n\u001b[0;32m    171\u001b[0m         \u001b[0mtree\u001b[0m\u001b[1;33m.\u001b[0m\u001b[0mfit\u001b[0m\u001b[1;33m(\u001b[0m\u001b[0mX\u001b[0m\u001b[1;33m,\u001b[0m \u001b[0my\u001b[0m\u001b[1;33m,\u001b[0m \u001b[0msample_weight\u001b[0m\u001b[1;33m=\u001b[0m\u001b[0msample_weight\u001b[0m\u001b[1;33m,\u001b[0m \u001b[0mcheck_input\u001b[0m\u001b[1;33m=\u001b[0m\u001b[1;32mFalse\u001b[0m\u001b[1;33m)\u001b[0m\u001b[1;33m\u001b[0m\u001b[1;33m\u001b[0m\u001b[0m\n",
      "\u001b[1;32m~\\.conda\\envs\\python_all\\lib\\site-packages\\sklearn\\tree\\_classes.py\u001b[0m in \u001b[0;36mfit\u001b[1;34m(self, X, y, sample_weight, check_input, X_idx_sorted)\u001b[0m\n\u001b[0;32m    896\u001b[0m         \"\"\"\n\u001b[0;32m    897\u001b[0m \u001b[1;33m\u001b[0m\u001b[0m\n\u001b[1;32m--> 898\u001b[1;33m         super().fit(\n\u001b[0m\u001b[0;32m    899\u001b[0m             \u001b[0mX\u001b[0m\u001b[1;33m,\u001b[0m \u001b[0my\u001b[0m\u001b[1;33m,\u001b[0m\u001b[1;33m\u001b[0m\u001b[1;33m\u001b[0m\u001b[0m\n\u001b[0;32m    900\u001b[0m             \u001b[0msample_weight\u001b[0m\u001b[1;33m=\u001b[0m\u001b[0msample_weight\u001b[0m\u001b[1;33m,\u001b[0m\u001b[1;33m\u001b[0m\u001b[1;33m\u001b[0m\u001b[0m\n",
      "\u001b[1;32m~\\.conda\\envs\\python_all\\lib\\site-packages\\sklearn\\tree\\_classes.py\u001b[0m in \u001b[0;36mfit\u001b[1;34m(self, X, y, sample_weight, check_input, X_idx_sorted)\u001b[0m\n\u001b[0;32m    387\u001b[0m                                            min_impurity_split)\n\u001b[0;32m    388\u001b[0m \u001b[1;33m\u001b[0m\u001b[0m\n\u001b[1;32m--> 389\u001b[1;33m         \u001b[0mbuilder\u001b[0m\u001b[1;33m.\u001b[0m\u001b[0mbuild\u001b[0m\u001b[1;33m(\u001b[0m\u001b[0mself\u001b[0m\u001b[1;33m.\u001b[0m\u001b[0mtree_\u001b[0m\u001b[1;33m,\u001b[0m \u001b[0mX\u001b[0m\u001b[1;33m,\u001b[0m \u001b[0my\u001b[0m\u001b[1;33m,\u001b[0m \u001b[0msample_weight\u001b[0m\u001b[1;33m)\u001b[0m\u001b[1;33m\u001b[0m\u001b[1;33m\u001b[0m\u001b[0m\n\u001b[0m\u001b[0;32m    390\u001b[0m \u001b[1;33m\u001b[0m\u001b[0m\n\u001b[0;32m    391\u001b[0m         \u001b[1;32mif\u001b[0m \u001b[0mself\u001b[0m\u001b[1;33m.\u001b[0m\u001b[0mn_outputs_\u001b[0m \u001b[1;33m==\u001b[0m \u001b[1;36m1\u001b[0m \u001b[1;32mand\u001b[0m \u001b[0mis_classifier\u001b[0m\u001b[1;33m(\u001b[0m\u001b[0mself\u001b[0m\u001b[1;33m)\u001b[0m\u001b[1;33m:\u001b[0m\u001b[1;33m\u001b[0m\u001b[1;33m\u001b[0m\u001b[0m\n",
      "\u001b[1;31mKeyboardInterrupt\u001b[0m: "
     ]
    }
   ],
   "source": [
    "eval_df = pd.DataFrame()\n",
    "for model_name, model in tqdm(models_to_compare.items()):\n",
    "    print(\"\\n\" + model_name)\n",
    "    model_eval_df = scf.evaluate_model(model_name, model, train_test_splits, fold_verbose=False, plot_folds=True)\n",
    "    eval_df = pd.concat([eval_df, model_eval_df], axis=0).reset_index(drop=True)"
   ]
  },
  {
   "cell_type": "markdown",
   "id": "floppy-amendment",
   "metadata": {},
   "source": [
    "### Manually inspect the evaluation scores"
   ]
  },
  {
   "cell_type": "code",
   "execution_count": 78,
   "id": "stuck-america",
   "metadata": {},
   "outputs": [
    {
     "data": {
      "text/html": [
       "<div>\n",
       "<style scoped>\n",
       "    .dataframe tbody tr th:only-of-type {\n",
       "        vertical-align: middle;\n",
       "    }\n",
       "\n",
       "    .dataframe tbody tr th {\n",
       "        vertical-align: top;\n",
       "    }\n",
       "\n",
       "    .dataframe thead th {\n",
       "        text-align: right;\n",
       "    }\n",
       "</style>\n",
       "<table border=\"1\" class=\"dataframe\">\n",
       "  <thead>\n",
       "    <tr style=\"text-align: right;\">\n",
       "      <th></th>\n",
       "      <th>Model</th>\n",
       "      <th>Avg Accuracy</th>\n",
       "      <th>Root Mean Squared Error</th>\n",
       "      <th>Min Accuracy</th>\n",
       "      <th>Max Accuracy</th>\n",
       "      <th>Total Time (s)</th>\n",
       "      <th>All Fold Averages</th>\n",
       "    </tr>\n",
       "  </thead>\n",
       "  <tbody>\n",
       "    <tr>\n",
       "      <th>0</th>\n",
       "      <td>Unigram Random Forest with clip counts</td>\n",
       "      <td>0.8115</td>\n",
       "      <td>0.022142</td>\n",
       "      <td>0.78</td>\n",
       "      <td>0.86</td>\n",
       "      <td>135.57</td>\n",
       "      <td>[0.79, 0.78, 0.825, 0.805, 0.79, 0.825, 0.805,...</td>\n",
       "    </tr>\n",
       "  </tbody>\n",
       "</table>\n",
       "</div>"
      ],
      "text/plain": [
       "                                    Model  Avg Accuracy  \\\n",
       "0  Unigram Random Forest with clip counts        0.8115   \n",
       "\n",
       "   Root Mean Squared Error  Min Accuracy  Max Accuracy  Total Time (s)  \\\n",
       "0                 0.022142          0.78          0.86          135.57   \n",
       "\n",
       "                                   All Fold Averages  \n",
       "0  [0.79, 0.78, 0.825, 0.805, 0.79, 0.825, 0.805,...  "
      ]
     },
     "execution_count": 78,
     "metadata": {},
     "output_type": "execute_result"
    }
   ],
   "source": [
    "eval_df"
   ]
  },
  {
   "cell_type": "markdown",
   "id": "native-draft",
   "metadata": {},
   "source": [
    "### Store the comparison of the different models"
   ]
  },
  {
   "cell_type": "code",
   "execution_count": 79,
   "id": "harmful-tribute",
   "metadata": {},
   "outputs": [],
   "source": [
    "filepath = os.path.join(\"data\", \"model_evaluation_scores.csv\")\n",
    "eval_df.to_csv(filepath, index=False)"
   ]
  },
  {
   "cell_type": "markdown",
   "id": "induced-astronomy",
   "metadata": {},
   "source": [
    "# -----------------------------------------------------------------------------------------------------------------"
   ]
  },
  {
   "cell_type": "code",
   "execution_count": null,
   "id": "communist-hydrogen",
   "metadata": {},
   "outputs": [],
   "source": [
    "break!"
   ]
  },
  {
   "cell_type": "markdown",
   "id": "noble-delaware",
   "metadata": {},
   "source": [
    "# Old Run"
   ]
  },
  {
   "cell_type": "code",
   "execution_count": 38,
   "id": "logical-playing",
   "metadata": {},
   "outputs": [
    {
     "data": {
      "text/html": [
       "<div>\n",
       "<style scoped>\n",
       "    .dataframe tbody tr th:only-of-type {\n",
       "        vertical-align: middle;\n",
       "    }\n",
       "\n",
       "    .dataframe tbody tr th {\n",
       "        vertical-align: top;\n",
       "    }\n",
       "\n",
       "    .dataframe thead th {\n",
       "        text-align: right;\n",
       "    }\n",
       "</style>\n",
       "<table border=\"1\" class=\"dataframe\">\n",
       "  <thead>\n",
       "    <tr style=\"text-align: right;\">\n",
       "      <th></th>\n",
       "      <th>Model</th>\n",
       "      <th>Accuracy</th>\n",
       "      <th>Stddev</th>\n",
       "      <th>Min</th>\n",
       "      <th>Max</th>\n",
       "      <th>Duration (s)</th>\n",
       "    </tr>\n",
       "  </thead>\n",
       "  <tbody>\n",
       "    <tr>\n",
       "      <th>0</th>\n",
       "      <td>Unigram Naive Bayes with clip_counts</td>\n",
       "      <td>0.8270</td>\n",
       "      <td>0.020761</td>\n",
       "      <td>0.785</td>\n",
       "      <td>0.855</td>\n",
       "      <td>41.099505</td>\n",
       "    </tr>\n",
       "    <tr>\n",
       "      <th>1</th>\n",
       "      <td>Unigram Naive Bayes no clip_counts</td>\n",
       "      <td>0.8165</td>\n",
       "      <td>0.028814</td>\n",
       "      <td>0.760</td>\n",
       "      <td>0.850</td>\n",
       "      <td>48.668412</td>\n",
       "    </tr>\n",
       "    <tr>\n",
       "      <th>2</th>\n",
       "      <td>Bigram Naive Bayes with clip_counts</td>\n",
       "      <td>0.8580</td>\n",
       "      <td>0.022494</td>\n",
       "      <td>0.815</td>\n",
       "      <td>0.885</td>\n",
       "      <td>229.376951</td>\n",
       "    </tr>\n",
       "    <tr>\n",
       "      <th>3</th>\n",
       "      <td>Bigram Naive Bayes no clip_counts</td>\n",
       "      <td>0.8420</td>\n",
       "      <td>0.024515</td>\n",
       "      <td>0.800</td>\n",
       "      <td>0.880</td>\n",
       "      <td>228.880124</td>\n",
       "    </tr>\n",
       "    <tr>\n",
       "      <th>4</th>\n",
       "      <td>Trigram Naive Bayes with clip_counts</td>\n",
       "      <td>0.7840</td>\n",
       "      <td>0.022000</td>\n",
       "      <td>0.750</td>\n",
       "      <td>0.820</td>\n",
       "      <td>864.413064</td>\n",
       "    </tr>\n",
       "    <tr>\n",
       "      <th>5</th>\n",
       "      <td>Trigram Naive Bayes no clip_counts</td>\n",
       "      <td>0.7810</td>\n",
       "      <td>0.011790</td>\n",
       "      <td>0.760</td>\n",
       "      <td>0.800</td>\n",
       "      <td>779.532211</td>\n",
       "    </tr>\n",
       "  </tbody>\n",
       "</table>\n",
       "</div>"
      ],
      "text/plain": [
       "                                  Model  Accuracy    Stddev    Min    Max  \\\n",
       "0  Unigram Naive Bayes with clip_counts    0.8270  0.020761  0.785  0.855   \n",
       "1    Unigram Naive Bayes no clip_counts    0.8165  0.028814  0.760  0.850   \n",
       "2   Bigram Naive Bayes with clip_counts    0.8580  0.022494  0.815  0.885   \n",
       "3     Bigram Naive Bayes no clip_counts    0.8420  0.024515  0.800  0.880   \n",
       "4  Trigram Naive Bayes with clip_counts    0.7840  0.022000  0.750  0.820   \n",
       "5    Trigram Naive Bayes no clip_counts    0.7810  0.011790  0.760  0.800   \n",
       "\n",
       "   Duration (s)  \n",
       "0     41.099505  \n",
       "1     48.668412  \n",
       "2    229.376951  \n",
       "3    228.880124  \n",
       "4    864.413064  \n",
       "5    779.532211  "
      ]
     },
     "execution_count": 38,
     "metadata": {},
     "output_type": "execute_result"
    }
   ],
   "source": [
    "eval_df"
   ]
  },
  {
   "cell_type": "code",
   "execution_count": 25,
   "id": "diverse-spread",
   "metadata": {},
   "outputs": [
    {
     "data": {
      "text/html": [
       "<div>\n",
       "<style scoped>\n",
       "    .dataframe tbody tr th:only-of-type {\n",
       "        vertical-align: middle;\n",
       "    }\n",
       "\n",
       "    .dataframe tbody tr th {\n",
       "        vertical-align: top;\n",
       "    }\n",
       "\n",
       "    .dataframe thead th {\n",
       "        text-align: right;\n",
       "    }\n",
       "</style>\n",
       "<table border=\"1\" class=\"dataframe\">\n",
       "  <thead>\n",
       "    <tr style=\"text-align: right;\">\n",
       "      <th></th>\n",
       "      <th>Model</th>\n",
       "      <th>Accuracy</th>\n",
       "      <th>Stddev</th>\n",
       "      <th>Min</th>\n",
       "      <th>Max</th>\n",
       "      <th>Duration (s)</th>\n",
       "    </tr>\n",
       "  </thead>\n",
       "  <tbody>\n",
       "    <tr>\n",
       "      <th>0</th>\n",
       "      <td>Unigram Support Vector Machine with clip counts</td>\n",
       "      <td>0.8415</td>\n",
       "      <td>0.025695</td>\n",
       "      <td>0.790</td>\n",
       "      <td>0.880</td>\n",
       "      <td>45.02</td>\n",
       "    </tr>\n",
       "    <tr>\n",
       "      <th>1</th>\n",
       "      <td>Unigram Support Vector Machine no clip counts</td>\n",
       "      <td>0.8090</td>\n",
       "      <td>0.046087</td>\n",
       "      <td>0.685</td>\n",
       "      <td>0.865</td>\n",
       "      <td>85.20</td>\n",
       "    </tr>\n",
       "    <tr>\n",
       "      <th>2</th>\n",
       "      <td>Bigram Support Vector Machine with clip counts</td>\n",
       "      <td>0.8160</td>\n",
       "      <td>0.021772</td>\n",
       "      <td>0.790</td>\n",
       "      <td>0.865</td>\n",
       "      <td>1225.93</td>\n",
       "    </tr>\n",
       "    <tr>\n",
       "      <th>3</th>\n",
       "      <td>Bigram Support Vector Machine no clip counts</td>\n",
       "      <td>0.7975</td>\n",
       "      <td>0.020767</td>\n",
       "      <td>0.755</td>\n",
       "      <td>0.830</td>\n",
       "      <td>1121.27</td>\n",
       "    </tr>\n",
       "  </tbody>\n",
       "</table>\n",
       "</div>"
      ],
      "text/plain": [
       "                                             Model  Accuracy    Stddev    Min  \\\n",
       "0  Unigram Support Vector Machine with clip counts    0.8415  0.025695  0.790   \n",
       "1    Unigram Support Vector Machine no clip counts    0.8090  0.046087  0.685   \n",
       "2   Bigram Support Vector Machine with clip counts    0.8160  0.021772  0.790   \n",
       "3     Bigram Support Vector Machine no clip counts    0.7975  0.020767  0.755   \n",
       "\n",
       "     Max  Duration (s)  \n",
       "0  0.880         45.02  \n",
       "1  0.865         85.20  \n",
       "2  0.865       1225.93  \n",
       "3  0.830       1121.27  "
      ]
     },
     "execution_count": 25,
     "metadata": {},
     "output_type": "execute_result"
    }
   ],
   "source": [
    "eval_df"
   ]
  },
  {
   "cell_type": "code",
   "execution_count": 18,
   "id": "decreased-federation",
   "metadata": {},
   "outputs": [
    {
     "data": {
      "text/html": [
       "<div>\n",
       "<style scoped>\n",
       "    .dataframe tbody tr th:only-of-type {\n",
       "        vertical-align: middle;\n",
       "    }\n",
       "\n",
       "    .dataframe tbody tr th {\n",
       "        vertical-align: top;\n",
       "    }\n",
       "\n",
       "    .dataframe thead th {\n",
       "        text-align: right;\n",
       "    }\n",
       "</style>\n",
       "<table border=\"1\" class=\"dataframe\">\n",
       "  <thead>\n",
       "    <tr style=\"text-align: right;\">\n",
       "      <th></th>\n",
       "      <th>Model</th>\n",
       "      <th>Accuracy</th>\n",
       "      <th>Stddev</th>\n",
       "      <th>Min</th>\n",
       "      <th>Max</th>\n",
       "      <th>Duration (s)</th>\n",
       "    </tr>\n",
       "  </thead>\n",
       "  <tbody>\n",
       "    <tr>\n",
       "      <th>0</th>\n",
       "      <td>Unigram Logistic Regression with clip counts</td>\n",
       "      <td>0.8675</td>\n",
       "      <td>0.019653</td>\n",
       "      <td>0.84</td>\n",
       "      <td>0.91</td>\n",
       "      <td>2538.34</td>\n",
       "    </tr>\n",
       "  </tbody>\n",
       "</table>\n",
       "</div>"
      ],
      "text/plain": [
       "                                          Model  Accuracy    Stddev   Min  \\\n",
       "0  Unigram Logistic Regression with clip counts    0.8675  0.019653  0.84   \n",
       "\n",
       "    Max  Duration (s)  \n",
       "0  0.91       2538.34  "
      ]
     },
     "execution_count": 18,
     "metadata": {},
     "output_type": "execute_result"
    }
   ],
   "source": [
    "eval_df"
   ]
  },
  {
   "cell_type": "code",
   "execution_count": 72,
   "id": "mathematical-oracle",
   "metadata": {},
   "outputs": [
    {
     "data": {
      "text/html": [
       "<div>\n",
       "<style scoped>\n",
       "    .dataframe tbody tr th:only-of-type {\n",
       "        vertical-align: middle;\n",
       "    }\n",
       "\n",
       "    .dataframe tbody tr th {\n",
       "        vertical-align: top;\n",
       "    }\n",
       "\n",
       "    .dataframe thead th {\n",
       "        text-align: right;\n",
       "    }\n",
       "</style>\n",
       "<table border=\"1\" class=\"dataframe\">\n",
       "  <thead>\n",
       "    <tr style=\"text-align: right;\">\n",
       "      <th></th>\n",
       "      <th>Model</th>\n",
       "      <th>Duration (s)</th>\n",
       "      <th>Accuracy</th>\n",
       "      <th>Root MSE</th>\n",
       "      <th>Min</th>\n",
       "      <th>Max</th>\n",
       "    </tr>\n",
       "  </thead>\n",
       "  <tbody>\n",
       "    <tr>\n",
       "      <th>0</th>\n",
       "      <td>Unigram Random Forest with clip counts</td>\n",
       "      <td>136.48</td>\n",
       "      <td>0.820</td>\n",
       "      <td>0.030984</td>\n",
       "      <td>0.775</td>\n",
       "      <td>0.875</td>\n",
       "    </tr>\n",
       "    <tr>\n",
       "      <th>1</th>\n",
       "      <td>Unigram Random Forest no clip counts</td>\n",
       "      <td>138.66</td>\n",
       "      <td>0.787</td>\n",
       "      <td>0.021703</td>\n",
       "      <td>0.750</td>\n",
       "      <td>0.830</td>\n",
       "    </tr>\n",
       "  </tbody>\n",
       "</table>\n",
       "</div>"
      ],
      "text/plain": [
       "                                    Model  Duration (s)  Accuracy  Root MSE  \\\n",
       "0  Unigram Random Forest with clip counts        136.48     0.820  0.030984   \n",
       "1    Unigram Random Forest no clip counts        138.66     0.787  0.021703   \n",
       "\n",
       "     Min    Max  \n",
       "0  0.775  0.875  \n",
       "1  0.750  0.830  "
      ]
     },
     "execution_count": 72,
     "metadata": {},
     "output_type": "execute_result"
    }
   ],
   "source": [
    "eval_df"
   ]
  },
  {
   "cell_type": "code",
   "execution_count": null,
   "id": "placed-cleaner",
   "metadata": {},
   "outputs": [],
   "source": []
  }
 ],
 "metadata": {
  "kernelspec": {
   "display_name": "Python 3",
   "language": "python",
   "name": "python3"
  },
  "language_info": {
   "codemirror_mode": {
    "name": "ipython",
    "version": 3
   },
   "file_extension": ".py",
   "mimetype": "text/x-python",
   "name": "python",
   "nbconvert_exporter": "python",
   "pygments_lexer": "ipython3",
   "version": "3.8.8"
  }
 },
 "nbformat": 4,
 "nbformat_minor": 5
}
