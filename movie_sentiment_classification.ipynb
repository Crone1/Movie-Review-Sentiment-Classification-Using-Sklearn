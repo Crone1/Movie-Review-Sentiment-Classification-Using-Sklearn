{
 "cells": [
  {
   "cell_type": "markdown",
   "metadata": {},
   "source": []
  },
  {
   "cell_type": "markdown",
   "metadata": {},
   "source": [
    "# Sentiment Polarity Prediction with Naive Bayes\n",
    "\n",
    "This notebook contains a basic implementation of document-level sentiment analysis\n",
    "for movie reviews with multinomial Naive Bayes and bag-of-words features\n",
    "and of cross-validation.\n",
    "* No special treatment of rare or unknown words. Unknown words in the test data are skipped.\n",
    "\n",
    "We use the movie review polarity data set of Pang and Lee 2004 [A Sentimental Education: Sentiment Analysis Using Subjectivity Summarization Based on Minimum Cuts](https://www.aclweb.org/anthology/P04-1035/) in Version 2.0 available from http://www.cs.cornell.edu/People/pabo/movie-review-data (section \"Sentiment polarity datasets\"). This dataset contains 1000 positive and 1000 negative reviews, each tokenised, sentence-split (one sentence per line) and lowercased. Each review has been assigned to 1 of 10 cross-validation folds by the authors and this setup should be followed to compare with published results.\n"
   ]
  },
  {
   "cell_type": "markdown",
   "metadata": {},
   "source": [
    "# Setup"
   ]
  },
  {
   "cell_type": "markdown",
   "metadata": {},
   "source": [
    "### Import packages"
   ]
  },
  {
   "cell_type": "code",
   "execution_count": 1,
   "metadata": {},
   "outputs": [],
   "source": [
    "import os\n",
    "import time\n",
    "import pandas as pd\n",
    "from tqdm.auto import tqdm"
   ]
  },
  {
   "cell_type": "markdown",
   "metadata": {},
   "source": [
    "### Import the classes and functions from the '.py' file"
   ]
  },
  {
   "cell_type": "code",
   "execution_count": 2,
   "metadata": {},
   "outputs": [],
   "source": [
    "%load_ext autoreload\n",
    "%autoreload 1\n",
    "%aimport Classes_and_functions\n",
    "\n",
    "import Classes_and_functions as py"
   ]
  },
  {
   "cell_type": "markdown",
   "metadata": {},
   "source": [
    "### Define the location of my chromedriver"
   ]
  },
  {
   "cell_type": "code",
   "execution_count": 3,
   "metadata": {},
   "outputs": [],
   "source": [
    "chromedriver_location = 'C:\\\\Program Files (x86)\\\\Google\\\\Chrome\\\\Application\\\\chromedriver.exe'"
   ]
  },
  {
   "cell_type": "markdown",
   "metadata": {},
   "source": [
    "# Load in the data"
   ]
  },
  {
   "cell_type": "code",
   "execution_count": 4,
   "metadata": {},
   "outputs": [],
   "source": [
    "data_dict = py.load_data('data', chromedriver_location)"
   ]
  },
  {
   "cell_type": "markdown",
   "metadata": {},
   "source": [
    "### Preview the documents in the data"
   ]
  },
  {
   "cell_type": "code",
   "execution_count": 5,
   "metadata": {},
   "outputs": [
    {
     "name": "stdout",
     "output_type": "stream",
     "text": [
      "\n",
      "==== pos ====\n",
      "   doc_num sentences                            start_of_first_sentence\n",
      "0        0        25  films|adapted|from|comic|books|have|had|plenty|of\n",
      "1        1        39      every|now|and|then|a|movie|comes|along|from|a\n",
      "2        2        19  you've|got|mail|works|alot|better|than|it|dese...\n",
      "3        3        42  \"|jaws|\"|is|a|rare|film|that|grabs|your|attention\n",
      "4        4        25        moviemaking|is|a|lot|like|being|the|general\n",
      "..     ...       ...                                                ...\n",
      "95      95        26               \"|crazy/beautiful|\"|suffers|from|the\n",
      "96      96        29  everyone|knows|someone|like|giles|de'ath|:|stuffy\n",
      "97      97        51  for|many|people|,|procrastination|isn't|a|problem\n",
      "98      98        26         meet|joe|black|(|reviewed|on|nov|.|27/98|)\n",
      "99      99        48      call|it|touched|by|a|demon|.|gregory|hoblit's\n",
      "\n",
      "[100 rows x 3 columns]\n",
      "\n",
      "==== neg ====\n",
      "   doc_num sentences                            start_of_first_sentence\n",
      "0        0        35     plot|:|two|teen|couples|go|to|a|church|party|,\n",
      "1        1        13   the|happy|bastard's|quick|movie|review|damn|that\n",
      "2        2        23    it|is|movies|like|these|that|make|a|jaded|movie\n",
      "3        3        19     \"|quest|for|camelot|\"|is|warner|bros|.|'|first\n",
      "4        4        37      synopsis|:|a|mentally|unstable|man|undergoing\n",
      "..     ...       ...                                                ...\n",
      "95      95        15   gord|brody|(|tom|green|)|is|an|aspiring|animator\n",
      "96      96        43  much|ado|about|nothing|.|ah|,|how|sweet|the|irony\n",
      "97      97        31  another|formula|'feel|good'|quirky|comedy|from...\n",
      "98      98        22     \"|love|to|kill|\"|starts|off|aimlessly|and|gets\n",
      "99      99        42  whether|you|like|the|beatles|or|not|,|nobody|w...\n",
      "\n",
      "[100 rows x 3 columns]\n"
     ]
    }
   ],
   "source": [
    "fold = 0\n",
    "for label in ['pos', 'neg']:\n",
    "    print('\\n====', label, '====')\n",
    "    \n",
    "    output_df = pd.DataFrame(columns=['doc_num', 'sentences', 'start_of_first_sentence'])\n",
    "    \n",
    "    list_of_documents = py.get_documents(data_dict, fold, label)\n",
    "    for doc_num, document in enumerate(list_of_documents):\n",
    "        \n",
    "        doc_preview = py.get_document_preview(document, max_length=50)\n",
    "        \n",
    "        one_row = pd.DataFrame({'doc_num': doc_num, 'sentences': len(document), 'start_of_first_sentence': doc_preview}, index=[0])\n",
    "        output_df = pd.concat([output_df, one_row], axis=0)\n",
    "        \n",
    "    print(output_df.reset_index(drop=True))"
   ]
  },
  {
   "cell_type": "markdown",
   "metadata": {},
   "source": [
    "# Create training-test splits for Cross-Validation"
   ]
  },
  {
   "cell_type": "code",
   "execution_count": 6,
   "metadata": {},
   "outputs": [],
   "source": [
    "train_test_splits = py.get_train_test_splits(data_dict)"
   ]
  },
  {
   "cell_type": "markdown",
   "metadata": {},
   "source": [
    "### Show the splits"
   ]
  },
  {
   "cell_type": "code",
   "execution_count": 7,
   "metadata": {},
   "outputs": [
    {
     "data": {
      "text/html": [
       "<div>\n",
       "<style scoped>\n",
       "    .dataframe tbody tr th:only-of-type {\n",
       "        vertical-align: middle;\n",
       "    }\n",
       "\n",
       "    .dataframe tbody tr th {\n",
       "        vertical-align: top;\n",
       "    }\n",
       "\n",
       "    .dataframe thead th {\n",
       "        text-align: right;\n",
       "    }\n",
       "</style>\n",
       "<table border=\"1\" class=\"dataframe\">\n",
       "  <thead>\n",
       "    <tr style=\"text-align: right;\">\n",
       "      <th></th>\n",
       "      <th>train_set_size</th>\n",
       "      <th>test_set_size</th>\n",
       "    </tr>\n",
       "  </thead>\n",
       "  <tbody>\n",
       "    <tr>\n",
       "      <th>0</th>\n",
       "      <td>1800</td>\n",
       "      <td>200</td>\n",
       "    </tr>\n",
       "    <tr>\n",
       "      <th>1</th>\n",
       "      <td>1800</td>\n",
       "      <td>200</td>\n",
       "    </tr>\n",
       "    <tr>\n",
       "      <th>2</th>\n",
       "      <td>1800</td>\n",
       "      <td>200</td>\n",
       "    </tr>\n",
       "    <tr>\n",
       "      <th>3</th>\n",
       "      <td>1800</td>\n",
       "      <td>200</td>\n",
       "    </tr>\n",
       "    <tr>\n",
       "      <th>4</th>\n",
       "      <td>1800</td>\n",
       "      <td>200</td>\n",
       "    </tr>\n",
       "    <tr>\n",
       "      <th>5</th>\n",
       "      <td>1800</td>\n",
       "      <td>200</td>\n",
       "    </tr>\n",
       "    <tr>\n",
       "      <th>6</th>\n",
       "      <td>1800</td>\n",
       "      <td>200</td>\n",
       "    </tr>\n",
       "    <tr>\n",
       "      <th>7</th>\n",
       "      <td>1800</td>\n",
       "      <td>200</td>\n",
       "    </tr>\n",
       "    <tr>\n",
       "      <th>8</th>\n",
       "      <td>1800</td>\n",
       "      <td>200</td>\n",
       "    </tr>\n",
       "    <tr>\n",
       "      <th>9</th>\n",
       "      <td>1800</td>\n",
       "      <td>200</td>\n",
       "    </tr>\n",
       "  </tbody>\n",
       "</table>\n",
       "</div>"
      ],
      "text/plain": [
       "  train_set_size test_set_size\n",
       "0           1800           200\n",
       "1           1800           200\n",
       "2           1800           200\n",
       "3           1800           200\n",
       "4           1800           200\n",
       "5           1800           200\n",
       "6           1800           200\n",
       "7           1800           200\n",
       "8           1800           200\n",
       "9           1800           200"
      ]
     },
     "execution_count": 7,
     "metadata": {},
     "output_type": "execute_result"
    }
   ],
   "source": [
    "num_docs_in_split = pd.DataFrame(columns=[\"train_set_size\", \"test_set_size\"])\n",
    "\n",
    "for train_data, test_data in train_test_splits:\n",
    "    one_row = pd.DataFrame({\"train_set_size\": len(train_data), \"test_set_size\": len(test_data)}, index=[0])\n",
    "    num_docs_in_split = pd.concat([num_docs_in_split, one_row], axis=0)\n",
    "    \n",
    "num_docs_in_split.reset_index(drop=True)"
   ]
  },
  {
   "cell_type": "markdown",
   "metadata": {},
   "source": [
    "# Define the Naive Bayes model"
   ]
  },
  {
   "cell_type": "code",
   "execution_count": 8,
   "metadata": {},
   "outputs": [],
   "source": [
    "model = py.Naive_Bayes()"
   ]
  },
  {
   "cell_type": "markdown",
   "metadata": {},
   "source": [
    "### Measure the model performance using one train-test split"
   ]
  },
  {
   "cell_type": "code",
   "execution_count": 9,
   "metadata": {},
   "outputs": [
    {
     "name": "stdout",
     "output_type": "stream",
     "text": [
      "Accuracy = 0.795\n",
      "Confusion_matrix:\n",
      " [[82 18]\n",
      " [23 77]]\n"
     ]
    },
    {
     "data": {
      "text/html": [
       "<div>\n",
       "<style scoped>\n",
       "    .dataframe tbody tr th:only-of-type {\n",
       "        vertical-align: middle;\n",
       "    }\n",
       "\n",
       "    .dataframe tbody tr th {\n",
       "        vertical-align: top;\n",
       "    }\n",
       "\n",
       "    .dataframe thead th {\n",
       "        text-align: right;\n",
       "    }\n",
       "</style>\n",
       "<table border=\"1\" class=\"dataframe\">\n",
       "  <thead>\n",
       "    <tr style=\"text-align: right;\">\n",
       "      <th></th>\n",
       "      <th>label</th>\n",
       "      <th>prediction</th>\n",
       "      <th>documents</th>\n",
       "    </tr>\n",
       "  </thead>\n",
       "  <tbody>\n",
       "    <tr>\n",
       "      <th>0</th>\n",
       "      <td>pos</td>\n",
       "      <td>neg</td>\n",
       "      <td>films|adapted|from|comic|books|have|had|plenty|of</td>\n",
       "    </tr>\n",
       "    <tr>\n",
       "      <th>1</th>\n",
       "      <td>pos</td>\n",
       "      <td>pos</td>\n",
       "      <td>every|now|and|then|a|movie|comes|along|from|a</td>\n",
       "    </tr>\n",
       "    <tr>\n",
       "      <th>2</th>\n",
       "      <td>pos</td>\n",
       "      <td>pos</td>\n",
       "      <td>you've|got|mail|works|alot|better|than|it|dese...</td>\n",
       "    </tr>\n",
       "    <tr>\n",
       "      <th>3</th>\n",
       "      <td>pos</td>\n",
       "      <td>pos</td>\n",
       "      <td>\"|jaws|\"|is|a|rare|film|that|grabs|your|attention</td>\n",
       "    </tr>\n",
       "    <tr>\n",
       "      <th>4</th>\n",
       "      <td>pos</td>\n",
       "      <td>neg</td>\n",
       "      <td>moviemaking|is|a|lot|like|being|the|general</td>\n",
       "    </tr>\n",
       "    <tr>\n",
       "      <th>5</th>\n",
       "      <td>pos</td>\n",
       "      <td>pos</td>\n",
       "      <td>on|june|30|,|1960|,|a|self-taught|,|idealistic|,</td>\n",
       "    </tr>\n",
       "    <tr>\n",
       "      <th>6</th>\n",
       "      <td>pos</td>\n",
       "      <td>pos</td>\n",
       "      <td>apparently|,|director|tony|kaye|had|a|major|ba...</td>\n",
       "    </tr>\n",
       "    <tr>\n",
       "      <th>7</th>\n",
       "      <td>pos</td>\n",
       "      <td>pos</td>\n",
       "      <td>one|of|my|colleagues|was|surprised|when|i|told...</td>\n",
       "    </tr>\n",
       "    <tr>\n",
       "      <th>8</th>\n",
       "      <td>pos</td>\n",
       "      <td>pos</td>\n",
       "      <td>after|bloody|clashes|and|independence|won|,</td>\n",
       "    </tr>\n",
       "    <tr>\n",
       "      <th>9</th>\n",
       "      <td>pos</td>\n",
       "      <td>pos</td>\n",
       "      <td>the|american|action|film|has|been|slowly|drowning</td>\n",
       "    </tr>\n",
       "  </tbody>\n",
       "</table>\n",
       "</div>"
      ],
      "text/plain": [
       "  label prediction                                          documents\n",
       "0   pos        neg  films|adapted|from|comic|books|have|had|plenty|of\n",
       "1   pos        pos      every|now|and|then|a|movie|comes|along|from|a\n",
       "2   pos        pos  you've|got|mail|works|alot|better|than|it|dese...\n",
       "3   pos        pos  \"|jaws|\"|is|a|rare|film|that|grabs|your|attention\n",
       "4   pos        neg        moviemaking|is|a|lot|like|being|the|general\n",
       "5   pos        pos   on|june|30|,|1960|,|a|self-taught|,|idealistic|,\n",
       "6   pos        pos  apparently|,|director|tony|kaye|had|a|major|ba...\n",
       "7   pos        pos  one|of|my|colleagues|was|surprised|when|i|told...\n",
       "8   pos        pos        after|bloody|clashes|and|independence|won|,\n",
       "9   pos        pos  the|american|action|film|has|been|slowly|drowning"
      ]
     },
     "execution_count": 9,
     "metadata": {},
     "output_type": "execute_result"
    }
   ],
   "source": [
    "sample_train_data, sample_test_data = train_test_splits[0]\n",
    "model.train(sample_train_data)\n",
    "py.print_first_n_predictions(model, sample_test_data, num_predictions=10, len_preview=50)"
   ]
  },
  {
   "cell_type": "markdown",
   "metadata": {},
   "source": [
    "### Measure the model performance Cross-Validating across all train-test splits"
   ]
  },
  {
   "cell_type": "code",
   "execution_count": null,
   "metadata": {},
   "outputs": [],
   "source": [
    "py.evaluate_model(model, train_test_splits, verbose=True)"
   ]
  },
  {
   "cell_type": "markdown",
   "metadata": {},
   "source": [
    "# Compare diferent models"
   ]
  },
  {
   "cell_type": "code",
   "execution_count": null,
   "metadata": {},
   "outputs": [],
   "source": [
    "models_to_compare = {'Naive Bayes with clip_counts': py.Naive_Bayes(clip_counts=True),\n",
    "                     'Naive Bayes no clip_counts': py.Naive_Bayes(clip_counts=False),\n",
    "                    }"
   ]
  },
  {
   "cell_type": "code",
   "execution_count": null,
   "metadata": {},
   "outputs": [],
   "source": [
    "eval_df = pd.DataFrame(columns=['Model', 'Accuracy', 'Stddev', 'Min', 'Max', 'Duration (s)'])\n",
    "for model_name, model in tqdm(models_to_compare.items()):\n",
    "    \n",
    "    # evaluate the model\n",
    "    start = time.time()\n",
    "    avg, std_dev, min_avg, max_avg = py.evaluate_model(model, train_test_splits)\n",
    "    duration = time.time() - start\n",
    "    \n",
    "    # add the results to a dataframe to store them\n",
    "    one_row = pd.DataFrame({'Model': model_name, 'Accuracy':avg, 'Stddev':std_dev, 'Min':min_avg, 'Max':max_avg, 'Duration (s)': duration}, index=[0])\n",
    "    eval_df = pd.concat([eval_df, one_row], axis=0)"
   ]
  },
  {
   "cell_type": "code",
   "execution_count": null,
   "metadata": {},
   "outputs": [],
   "source": [
    "eval_df.reset_index(drop=True)"
   ]
  },
  {
   "cell_type": "code",
   "execution_count": null,
   "metadata": {},
   "outputs": [],
   "source": []
  },
  {
   "cell_type": "code",
   "execution_count": null,
   "metadata": {},
   "outputs": [],
   "source": []
  }
 ],
 "metadata": {
  "kernelspec": {
   "display_name": "Python 3",
   "language": "python",
   "name": "python3"
  },
  "language_info": {
   "codemirror_mode": {
    "name": "ipython",
    "version": 3
   },
   "file_extension": ".py",
   "mimetype": "text/x-python",
   "name": "python",
   "nbconvert_exporter": "python",
   "pygments_lexer": "ipython3",
   "version": "3.8.6"
  }
 },
 "nbformat": 4,
 "nbformat_minor": 5
}
